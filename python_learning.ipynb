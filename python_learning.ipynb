{
  "nbformat": 4,
  "nbformat_minor": 0,
  "metadata": {
    "colab": {
      "provenance": [],
      "authorship_tag": "ABX9TyM82u8adjvBvZWgfuQUyEB3",
      "include_colab_link": true
    },
    "kernelspec": {
      "name": "python3",
      "display_name": "Python 3"
    },
    "language_info": {
      "name": "python"
    }
  },
  "cells": [
    {
      "cell_type": "markdown",
      "metadata": {
        "id": "view-in-github",
        "colab_type": "text"
      },
      "source": [
        "<a href=\"https://colab.research.google.com/github/itsmesudhanshu/pyton-learning/blob/main/python_learning.ipynb\" target=\"_parent\"><img src=\"https://colab.research.google.com/assets/colab-badge.svg\" alt=\"Open In Colab\"/></a>"
      ]
    },
    {
      "cell_type": "code",
      "execution_count": null,
      "metadata": {
        "id": "nswRNrCASrHs",
        "colab": {
          "base_uri": "https://localhost:8080/"
        },
        "outputId": "800cca30-5470-4e69-e3d4-8363dba07557"
      },
      "outputs": [
        {
          "output_type": "stream",
          "name": "stdout",
          "text": [
            "Hello World\n"
          ]
        }
      ],
      "source": [
        "print(\"Hello World\")"
      ]
    },
    {
      "cell_type": "code",
      "source": [
        " print(\"hello world\")"
      ],
      "metadata": {
        "colab": {
          "base_uri": "https://localhost:8080/"
        },
        "id": "sukcYaNdtIn-",
        "outputId": "41b58ae2-7742-4156-f788-513d5aa35a87"
      },
      "execution_count": null,
      "outputs": [
        {
          "output_type": "stream",
          "name": "stdout",
          "text": [
            "hello world\n"
          ]
        }
      ]
    },
    {
      "cell_type": "code",
      "source": [
        "a=45\n",
        "b=86\n",
        "z=a+b\n",
        "print(z)\n",
        "print(\"z\")"
      ],
      "metadata": {
        "colab": {
          "base_uri": "https://localhost:8080/"
        },
        "id": "WqbJ_htAtSdg",
        "outputId": "2cdcc11d-1a97-4b85-828a-12a1f12150e5"
      },
      "execution_count": null,
      "outputs": [
        {
          "output_type": "stream",
          "name": "stdout",
          "text": [
            "131\n",
            "z\n"
          ]
        }
      ]
    },
    {
      "cell_type": "markdown",
      "source": [
        "#Variables"
      ],
      "metadata": {
        "id": "M19tg1YzzSB3"
      }
    },
    {
      "cell_type": "code",
      "source": [
        "   x=3"
      ],
      "metadata": {
        "id": "hL0PZm4ZxAQI"
      },
      "execution_count": null,
      "outputs": []
    },
    {
      "cell_type": "code",
      "source": [
        "%whos"
      ],
      "metadata": {
        "colab": {
          "base_uri": "https://localhost:8080/"
        },
        "id": "83l8hXVYzO_R",
        "outputId": "6b849232-559a-454b-d9e8-add7247a00e1"
      },
      "execution_count": null,
      "outputs": [
        {
          "output_type": "stream",
          "name": "stdout",
          "text": [
            "Variable   Type     Data/Info\n",
            "-----------------------------\n",
            "a          int      45\n",
            "b          int      86\n",
            "c          bool     True\n",
            "d          float    2.3\n",
            "e          float    4.4\n",
            "k          tuple    n=2\n",
            "x          int      3\n",
            "z          int      131\n"
          ]
        }
      ]
    },
    {
      "cell_type": "code",
      "source": [
        "print(type(x))"
      ],
      "metadata": {
        "colab": {
          "base_uri": "https://localhost:8080/"
        },
        "id": "gPlS1AoYzliX",
        "outputId": "66dd0e0a-941d-4c70-ff5a-0a8f32e6f2db"
      },
      "execution_count": null,
      "outputs": [
        {
          "output_type": "stream",
          "name": "stdout",
          "text": [
            "<class 'int'>\n"
          ]
        }
      ]
    },
    {
      "cell_type": "code",
      "source": [
        "a,b,c,d,e=3,4,5,2.3,4.4"
      ],
      "metadata": {
        "id": "vrwlCbTaz4y8"
      },
      "execution_count": null,
      "outputs": []
    },
    {
      "cell_type": "code",
      "source": [
        "%whos"
      ],
      "metadata": {
        "colab": {
          "base_uri": "https://localhost:8080/"
        },
        "id": "_oBVeXUV0OW_",
        "outputId": "d57587dc-0c46-435e-b32a-9466cb1f8ed7"
      },
      "execution_count": null,
      "outputs": [
        {
          "output_type": "stream",
          "name": "stdout",
          "text": [
            "Variable   Type     Data/Info\n",
            "-----------------------------\n",
            "a          int      3\n",
            "b          int      4\n",
            "c          int      5\n",
            "d          float    2.3\n",
            "e          float    4.4\n",
            "k          tuple    n=2\n",
            "x          int      3\n",
            "z          int      131\n"
          ]
        }
      ]
    },
    {
      "cell_type": "code",
      "source": [
        "del z"
      ],
      "metadata": {
        "id": "U8LOMeA30Rr9"
      },
      "execution_count": null,
      "outputs": []
    },
    {
      "cell_type": "code",
      "source": [
        "print(z)"
      ],
      "metadata": {
        "colab": {
          "base_uri": "https://localhost:8080/"
        },
        "id": "Dqvi9bU10Ygr",
        "outputId": "5ebdb9f1-3a32-420d-b83e-3c6c5a147250"
      },
      "execution_count": null,
      "outputs": [
        {
          "output_type": "stream",
          "name": "stdout",
          "text": [
            "131\n"
          ]
        }
      ]
    },
    {
      "cell_type": "code",
      "source": [
        "%whos"
      ],
      "metadata": {
        "colab": {
          "base_uri": "https://localhost:8080/"
        },
        "id": "0_9OlhYB0bQR",
        "outputId": "d0404263-1a27-44f2-d22c-42fd752c4d94"
      },
      "execution_count": null,
      "outputs": [
        {
          "output_type": "stream",
          "name": "stdout",
          "text": [
            "Variable   Type     Data/Info\n",
            "-----------------------------\n",
            "a          int      3\n",
            "b          int      4\n",
            "c          int      5\n",
            "d          float    2.3\n",
            "e          float    4.4\n",
            "x          int      3\n"
          ]
        }
      ]
    },
    {
      "cell_type": "code",
      "source": [
        "c=2+3j"
      ],
      "metadata": {
        "id": "mcSb013Z0diW"
      },
      "execution_count": null,
      "outputs": []
    },
    {
      "cell_type": "code",
      "source": [
        "print(type(c))"
      ],
      "metadata": {
        "colab": {
          "base_uri": "https://localhost:8080/"
        },
        "id": "4m8oDp3D0oBr",
        "outputId": "4dc4140d-007a-43d0-babc-e320aff3c87d"
      },
      "execution_count": null,
      "outputs": [
        {
          "output_type": "stream",
          "name": "stdout",
          "text": [
            "<class 'complex'>\n"
          ]
        }
      ]
    },
    {
      "cell_type": "markdown",
      "source": [
        "#Boolean"
      ],
      "metadata": {
        "id": "_EEcaVoO3woj"
      }
    },
    {
      "cell_type": "code",
      "source": [
        " a=True\n",
        " b=True\n",
        " c=False"
      ],
      "metadata": {
        "id": "KJ9y0aoK0rW6"
      },
      "execution_count": null,
      "outputs": []
    },
    {
      "cell_type": "code",
      "source": [
        "%whos"
      ],
      "metadata": {
        "colab": {
          "base_uri": "https://localhost:8080/"
        },
        "id": "e6r7OfuI36KL",
        "outputId": "119a3b91-8ef9-4134-d5d3-7279e0817f85"
      },
      "execution_count": null,
      "outputs": [
        {
          "output_type": "stream",
          "name": "stdout",
          "text": [
            "Variable   Type     Data/Info\n",
            "-----------------------------\n",
            "a          bool     True\n",
            "b          bool     True\n",
            "c          bool     False\n",
            "d          float    2.3\n",
            "e          float    4.4\n",
            "x          int      3\n"
          ]
        }
      ]
    },
    {
      "cell_type": "code",
      "source": [
        "print(a and b)"
      ],
      "metadata": {
        "colab": {
          "base_uri": "https://localhost:8080/"
        },
        "id": "H1bsFjiK37x3",
        "outputId": "23bbc978-669a-4806-d42d-61b9d82078b2"
      },
      "execution_count": null,
      "outputs": [
        {
          "output_type": "stream",
          "name": "stdout",
          "text": [
            "True\n"
          ]
        }
      ]
    },
    {
      "cell_type": "code",
      "source": [
        "print(a and c)"
      ],
      "metadata": {
        "colab": {
          "base_uri": "https://localhost:8080/"
        },
        "id": "gjXVc6j94khf",
        "outputId": "bf36ea60-2273-47a8-e88e-15c4cf9cb744"
      },
      "execution_count": null,
      "outputs": [
        {
          "output_type": "stream",
          "name": "stdout",
          "text": [
            "False\n"
          ]
        }
      ]
    },
    {
      "cell_type": "code",
      "source": [
        "print(a or b)"
      ],
      "metadata": {
        "colab": {
          "base_uri": "https://localhost:8080/"
        },
        "id": "JMw0gx6z4ngz",
        "outputId": "92114479-afbf-4f30-a630-fa3d7ef8dc50"
      },
      "execution_count": null,
      "outputs": [
        {
          "output_type": "stream",
          "name": "stdout",
          "text": [
            "True\n"
          ]
        }
      ]
    },
    {
      "cell_type": "code",
      "source": [
        "print(a or c)"
      ],
      "metadata": {
        "colab": {
          "base_uri": "https://localhost:8080/"
        },
        "id": "yGJ9KDXC4sF5",
        "outputId": "77579a14-e7a3-43ad-e5c8-7dfbc555997f"
      },
      "execution_count": null,
      "outputs": [
        {
          "output_type": "stream",
          "name": "stdout",
          "text": [
            "True\n"
          ]
        }
      ]
    },
    {
      "cell_type": "code",
      "source": [
        "not(a)"
      ],
      "metadata": {
        "colab": {
          "base_uri": "https://localhost:8080/"
        },
        "id": "9-8hvV4d4v4b",
        "outputId": "b28e8884-98b4-45aa-eb2b-cdefa1bcd830"
      },
      "execution_count": null,
      "outputs": [
        {
          "output_type": "execute_result",
          "data": {
            "text/plain": [
              "False"
            ]
          },
          "metadata": {},
          "execution_count": 24
        }
      ]
    },
    {
      "cell_type": "code",
      "source": [
        "not((a and b)or (a and c))"
      ],
      "metadata": {
        "colab": {
          "base_uri": "https://localhost:8080/"
        },
        "id": "8IGK0y5n49dw",
        "outputId": "9ba85199-f19d-4b3a-b1d3-01ef5002ecde"
      },
      "execution_count": null,
      "outputs": [
        {
          "output_type": "execute_result",
          "data": {
            "text/plain": [
              "False"
            ]
          },
          "metadata": {},
          "execution_count": 25
        }
      ]
    },
    {
      "cell_type": "markdown",
      "source": [
        "#Comparison"
      ],
      "metadata": {
        "id": "Idc4sJDc6ds_"
      }
    },
    {
      "cell_type": "code",
      "source": [
        "c=2<3\n",
        "print(c)"
      ],
      "metadata": {
        "colab": {
          "base_uri": "https://localhost:8080/"
        },
        "id": "AiGI66d_5T_-",
        "outputId": "6286de5d-6f85-4095-ce69-9b09ba0d5370"
      },
      "execution_count": null,
      "outputs": [
        {
          "output_type": "stream",
          "name": "stdout",
          "text": [
            "True\n"
          ]
        }
      ]
    },
    {
      "cell_type": "code",
      "source": [
        "print(type(c))"
      ],
      "metadata": {
        "colab": {
          "base_uri": "https://localhost:8080/"
        },
        "id": "EJgHSGIQ6nL8",
        "outputId": "ea826a6d-9f55-40b6-e456-c54c3e7573f9"
      },
      "execution_count": null,
      "outputs": [
        {
          "output_type": "stream",
          "name": "stdout",
          "text": [
            "<class 'bool'>\n"
          ]
        }
      ]
    },
    {
      "cell_type": "code",
      "source": [
        "print((not(2!=3)and True)or(False and True))"
      ],
      "metadata": {
        "colab": {
          "base_uri": "https://localhost:8080/"
        },
        "id": "vgSq58ON6qQ9",
        "outputId": "8594d5bd-2145-4026-a208-41102342168f"
      },
      "execution_count": null,
      "outputs": [
        {
          "output_type": "stream",
          "name": "stdout",
          "text": [
            "False\n"
          ]
        }
      ]
    },
    {
      "cell_type": "code",
      "source": [],
      "metadata": {
        "id": "xs7QJNaUEp7s"
      },
      "execution_count": null,
      "outputs": []
    },
    {
      "cell_type": "markdown",
      "source": [
        "#Some usefull function"
      ],
      "metadata": {
        "id": "V1CwREYNGGQ6"
      }
    },
    {
      "cell_type": "markdown",
      "source": [
        "round() function rounds the input value to a specified number of paces or to the nearest integer."
      ],
      "metadata": {
        "id": "VVTM8V5yGMUA"
      }
    },
    {
      "cell_type": "code",
      "source": [
        "print(round(4.556))"
      ],
      "metadata": {
        "colab": {
          "base_uri": "https://localhost:8080/"
        },
        "id": "Y7LcasiNGLjO",
        "outputId": "68ae024a-6903-48ff-d363-ab6f626e85c6"
      },
      "execution_count": null,
      "outputs": [
        {
          "output_type": "stream",
          "name": "stdout",
          "text": [
            "5\n"
          ]
        }
      ]
    },
    {
      "cell_type": "code",
      "source": [
        "print(round(3.45689,3))"
      ],
      "metadata": {
        "colab": {
          "base_uri": "https://localhost:8080/"
        },
        "id": "7W93snImHNIh",
        "outputId": "246f6bc3-6fa3-4196-88da-c9a1510e8766"
      },
      "execution_count": null,
      "outputs": [
        {
          "output_type": "stream",
          "name": "stdout",
          "text": [
            "3.457\n"
          ]
        }
      ]
    },
    {
      "cell_type": "markdown",
      "source": [
        "divmod(x,y) outputs the quotient and the remainder in a tuple . "
      ],
      "metadata": {
        "id": "K98aYYPHHm8K"
      }
    },
    {
      "cell_type": "code",
      "source": [
        "k = divmod(34,9)"
      ],
      "metadata": {
        "id": "U2G1O86oHQbR"
      },
      "execution_count": null,
      "outputs": []
    },
    {
      "cell_type": "code",
      "source": [
        "print(divmod(45,8))"
      ],
      "metadata": {
        "colab": {
          "base_uri": "https://localhost:8080/"
        },
        "id": "Anc4ol0SITyN",
        "outputId": "5adbadfa-6488-409f-8cff-51fdc1f8a9aa"
      },
      "execution_count": null,
      "outputs": [
        {
          "output_type": "stream",
          "name": "stdout",
          "text": [
            "(5, 5)\n"
          ]
        }
      ]
    },
    {
      "cell_type": "code",
      "source": [
        "print(type(k))"
      ],
      "metadata": {
        "colab": {
          "base_uri": "https://localhost:8080/"
        },
        "id": "zAqz1bjyIapZ",
        "outputId": "30e7fc88-c6f5-4f9f-ae46-985fa0dbaeac"
      },
      "execution_count": null,
      "outputs": [
        {
          "output_type": "stream",
          "name": "stdout",
          "text": [
            "<class 'tuple'>\n"
          ]
        }
      ]
    },
    {
      "cell_type": "code",
      "source": [
        "34/9"
      ],
      "metadata": {
        "colab": {
          "base_uri": "https://localhost:8080/"
        },
        "id": "QMyiLRWUIp9n",
        "outputId": "dc2fe9d7-be6a-4f35-dddf-268f7621692f"
      },
      "execution_count": null,
      "outputs": [
        {
          "output_type": "execute_result",
          "data": {
            "text/plain": [
              "3.7777777777777777"
            ]
          },
          "metadata": {},
          "execution_count": 41
        }
      ]
    },
    {
      "cell_type": "code",
      "source": [
        "34//9"
      ],
      "metadata": {
        "colab": {
          "base_uri": "https://localhost:8080/"
        },
        "id": "PyRMgJbUJGtO",
        "outputId": "50c1a168-3b86-4cc0-fa6b-d445cd18619e"
      },
      "execution_count": null,
      "outputs": [
        {
          "output_type": "execute_result",
          "data": {
            "text/plain": [
              "3"
            ]
          },
          "metadata": {},
          "execution_count": 42
        }
      ]
    },
    {
      "cell_type": "code",
      "source": [
        "34%9"
      ],
      "metadata": {
        "colab": {
          "base_uri": "https://localhost:8080/"
        },
        "id": "YcEXkX3kJIu7",
        "outputId": "cbf7ae31-7bc0-44ca-d178-ce6c6950b750"
      },
      "execution_count": null,
      "outputs": [
        {
          "output_type": "execute_result",
          "data": {
            "text/plain": [
              "7"
            ]
          },
          "metadata": {},
          "execution_count": 43
        }
      ]
    },
    {
      "cell_type": "code",
      "source": [
        " "
      ],
      "metadata": {
        "id": "Aj9HXOWNJLif"
      },
      "execution_count": null,
      "outputs": []
    },
    {
      "cell_type": "markdown",
      "source": [
        "isinstance() return True, if the first argument is an instance of that class.Multiple classes can also be checked aat once.\n",
        "print(isinstance(1,int))\n",
        "print(isinstance(1.0,int))\n",
        "print(isinstance(1.0,(int,float))))"
      ],
      "metadata": {
        "id": "yzyKoWjfJSuR"
      }
    },
    {
      "cell_type": "code",
      "source": [
        "isinstance(2+3j,(int,float))"
      ],
      "metadata": {
        "colab": {
          "base_uri": "https://localhost:8080/"
        },
        "id": "R_B-13a4KCMS",
        "outputId": "7a5a42eb-89b1-4784-8c4c-a39ba615bd41"
      },
      "execution_count": null,
      "outputs": [
        {
          "output_type": "execute_result",
          "data": {
            "text/plain": [
              "False"
            ]
          },
          "metadata": {},
          "execution_count": 44
        }
      ]
    },
    {
      "cell_type": "code",
      "source": [
        " isinstance(3,int)"
      ],
      "metadata": {
        "colab": {
          "base_uri": "https://localhost:8080/"
        },
        "id": "4Jt3T5i_ZMWp",
        "outputId": "ff437e79-0ce5-4724-8e5c-44378ff894ae"
      },
      "execution_count": null,
      "outputs": [
        {
          "output_type": "execute_result",
          "data": {
            "text/plain": [
              "True"
            ]
          },
          "metadata": {},
          "execution_count": 45
        }
      ]
    },
    {
      "cell_type": "code",
      "source": [
        "isinstance(3.4,(int,float))"
      ],
      "metadata": {
        "colab": {
          "base_uri": "https://localhost:8080/"
        },
        "id": "J2Zeju1ZZmb4",
        "outputId": "fc17adcd-a3fc-44e4-e72e-4b6a2a4ceedf"
      },
      "execution_count": null,
      "outputs": [
        {
          "output_type": "execute_result",
          "data": {
            "text/plain": [
              "True"
            ]
          },
          "metadata": {},
          "execution_count": 48
        }
      ]
    },
    {
      "cell_type": "code",
      "source": [
        "isinstance(2+3j,(int,float,str,complex))"
      ],
      "metadata": {
        "colab": {
          "base_uri": "https://localhost:8080/"
        },
        "id": "wVlnSJ0sZxGU",
        "outputId": "49897e73-387e-4dd4-b96e-774b28c3dd45"
      },
      "execution_count": null,
      "outputs": [
        {
          "output_type": "execute_result",
          "data": {
            "text/plain": [
              "True"
            ]
          },
          "metadata": {},
          "execution_count": 49
        }
      ]
    },
    {
      "cell_type": "markdown",
      "source": [
        "pow(x,y,z) x raise to the power y and remainder by z."
      ],
      "metadata": {
        "id": "eufDJUtDaP0i"
      }
    },
    {
      "cell_type": "code",
      "source": [
        "pow(2,4)"
      ],
      "metadata": {
        "colab": {
          "base_uri": "https://localhost:8080/"
        },
        "id": "3Hi2QQdgaFzU",
        "outputId": "f3aba46a-6c51-40d0-b702-f8be6543edf3"
      },
      "execution_count": null,
      "outputs": [
        {
          "output_type": "execute_result",
          "data": {
            "text/plain": [
              "16"
            ]
          },
          "metadata": {},
          "execution_count": 50
        }
      ]
    },
    {
      "cell_type": "code",
      "source": [
        " pow(2,4,7)"
      ],
      "metadata": {
        "colab": {
          "base_uri": "https://localhost:8080/"
        },
        "id": "hZnvRKymdnUa",
        "outputId": "8529921f-5bd7-4c17-f62c-7c63c3a3568c"
      },
      "execution_count": null,
      "outputs": [
        {
          "output_type": "execute_result",
          "data": {
            "text/plain": [
              "2"
            ]
          },
          "metadata": {},
          "execution_count": 51
        }
      ]
    },
    {
      "cell_type": "markdown",
      "source": [
        "Input() a=input(\"Enter something\")"
      ],
      "metadata": {
        "id": "TF-NcXujehoU"
      }
    },
    {
      "cell_type": "code",
      "source": [
        "x = input(\"Enter a number\")"
      ],
      "metadata": {
        "colab": {
          "base_uri": "https://localhost:8080/"
        },
        "id": "bR4m2sl9dzkc",
        "outputId": "0033224f-50f1-44fc-a332-cbe371968fcd"
      },
      "execution_count": null,
      "outputs": [
        {
          "name": "stdout",
          "output_type": "stream",
          "text": [
            "Enter a number56\n"
          ]
        }
      ]
    },
    {
      "cell_type": "code",
      "source": [
        "type(x)"
      ],
      "metadata": {
        "colab": {
          "base_uri": "https://localhost:8080/"
        },
        "id": "I6p6WcaSfFlX",
        "outputId": "6b14c361-8664-4acc-b6f9-a76fa4320461"
      },
      "execution_count": null,
      "outputs": [
        {
          "output_type": "execute_result",
          "data": {
            "text/plain": [
              "str"
            ]
          },
          "metadata": {},
          "execution_count": 54
        }
      ]
    },
    {
      "cell_type": "code",
      "source": [
        "x = int(x)"
      ],
      "metadata": {
        "id": "m2-Ex8-Vffhx"
      },
      "execution_count": null,
      "outputs": []
    },
    {
      "cell_type": "code",
      "source": [
        " a = float(input(\"Enter a real number :\"))"
      ],
      "metadata": {
        "colab": {
          "base_uri": "https://localhost:8080/"
        },
        "id": "nz82boLWflYj",
        "outputId": "778d4e57-870a-4f86-a9bb-e10bd9a7556a"
      },
      "execution_count": null,
      "outputs": [
        {
          "name": "stdout",
          "output_type": "stream",
          "text": [
            "Enter a real number :5.2\n"
          ]
        }
      ]
    },
    {
      "cell_type": "code",
      "source": [
        "pow?"
      ],
      "metadata": {
        "id": "YjLcPigRgn7p"
      },
      "execution_count": null,
      "outputs": []
    },
    {
      "cell_type": "code",
      "source": [
        "help(pow)"
      ],
      "metadata": {
        "colab": {
          "base_uri": "https://localhost:8080/"
        },
        "id": "3rRr5GUih091",
        "outputId": "5c3596cf-9396-45d1-82da-c0fe4e483dae"
      },
      "execution_count": null,
      "outputs": [
        {
          "output_type": "stream",
          "name": "stdout",
          "text": [
            "Help on built-in function pow in module builtins:\n",
            "\n",
            "pow(x, y, z=None, /)\n",
            "    Equivalent to x**y (with two arguments) or x**y % z (with three arguments)\n",
            "    \n",
            "    Some types, such as ints, are able to use a more efficient algorithm when\n",
            "    invoked using the three argument form.\n",
            "\n"
          ]
        }
      ]
    },
    {
      "cell_type": "code",
      "source": [
        "help(input)"
      ],
      "metadata": {
        "colab": {
          "base_uri": "https://localhost:8080/"
        },
        "id": "O6XKro3Dh6op",
        "outputId": "f40b166f-082f-402b-b6ba-b852f907dbb9"
      },
      "execution_count": null,
      "outputs": [
        {
          "output_type": "stream",
          "name": "stdout",
          "text": [
            "Help on method raw_input in module ipykernel.kernelbase:\n",
            "\n",
            "raw_input(prompt='') method of google.colab._kernel.Kernel instance\n",
            "    Forward raw_input to frontends\n",
            "    \n",
            "    Raises\n",
            "    ------\n",
            "    StdinNotImplentedError if active frontend doesn't support stdin.\n",
            "\n"
          ]
        }
      ]
    },
    {
      "cell_type": "markdown",
      "source": [
        "#control flow"
      ],
      "metadata": {
        "id": "HF60OFlSk6ZW"
      }
    },
    {
      "cell_type": "code",
      "source": [
        "a = int(input()) \n",
        "b = int(input())\n",
        "if b>a:\n",
        "  print(\"b is greater than a\")\n",
        "else:\n",
        "  print(\"b is smaller than a\")"
      ],
      "metadata": {
        "colab": {
          "base_uri": "https://localhost:8080/"
        },
        "id": "aDhSzWVziAFA",
        "outputId": "972c61d3-5daf-4031-ae1c-35992fd49c01"
      },
      "execution_count": null,
      "outputs": [
        {
          "output_type": "stream",
          "name": "stdout",
          "text": [
            "45\n",
            "23\n",
            "b is smaller than a\n"
          ]
        }
      ]
    },
    {
      "cell_type": "code",
      "source": [
        "a = int(input())\n",
        "b = int(input())\n",
        "if a>b:\n",
        "  print(a)\n",
        "  print(\"I am still inside if condition\")\n",
        "print(\"I am outside the if condition\")   "
      ],
      "metadata": {
        "colab": {
          "base_uri": "https://localhost:8080/"
        },
        "id": "LX_kXo36lMIK",
        "outputId": "9290a651-f412-4416-bd81-c60b963a5863"
      },
      "execution_count": null,
      "outputs": [
        {
          "output_type": "stream",
          "name": "stdout",
          "text": [
            "34\n",
            "35\n",
            "I am outside the if condition\n"
          ]
        }
      ]
    },
    {
      "cell_type": "markdown",
      "source": [],
      "metadata": {
        "id": "9jBAM4_vp_lX"
      }
    },
    {
      "cell_type": "code",
      "source": [
        "23"
      ],
      "metadata": {
        "colab": {
          "base_uri": "https://localhost:8080/"
        },
        "id": "y6xBx9Fom9nD",
        "outputId": "f775b939-79b6-4164-cdf2-f4f6f7e24668"
      },
      "execution_count": null,
      "outputs": [
        {
          "output_type": "execute_result",
          "data": {
            "text/plain": [
              "23"
            ]
          },
          "metadata": {},
          "execution_count": 68
        }
      ]
    },
    {
      "cell_type": "code",
      "source": [
        "a = int(input())\n",
        "b = int(input())\n",
        "if a>b:\n",
        "  print(\"a\")\n",
        "if b>a:\n",
        "  print(\"b\")\n"
      ],
      "metadata": {
        "colab": {
          "base_uri": "https://localhost:8080/"
        },
        "id": "Sl4zc6w3nVfv",
        "outputId": "4a32d57d-6d29-4ba2-f852-699a5f836e19"
      },
      "execution_count": null,
      "outputs": [
        {
          "output_type": "stream",
          "name": "stdout",
          "text": [
            "23\n",
            "43\n",
            "b\n"
          ]
        }
      ]
    },
    {
      "cell_type": "markdown",
      "source": [
        "#Control Flow (If- Else)"
      ],
      "metadata": {
        "id": "mTPPK60XpdXi"
      }
    },
    {
      "cell_type": "code",
      "source": [
        "a = int(input())\n",
        "b = int(input())\n",
        "if a>b:\n",
        "  print(a)\n",
        "  print(\"if part\")\n",
        "else:\n",
        "  print(b)\n",
        "  print(\"else part\")  "
      ],
      "metadata": {
        "colab": {
          "base_uri": "https://localhost:8080/"
        },
        "id": "_qOt8PAdpCyK",
        "outputId": "79a06e01-7e04-4154-9179-f1cdebf46fe8"
      },
      "execution_count": null,
      "outputs": [
        {
          "output_type": "stream",
          "name": "stdout",
          "text": [
            "17\n",
            "56\n",
            "56\n",
            "else part\n"
          ]
        }
      ]
    },
    {
      "cell_type": "code",
      "source": [
        "a = int(input())\n",
        "b = int(input())\n",
        "if a==b:\n",
        "  print(\"Equal\")\n",
        "elif a>b:\n",
        "  print(\"A\")\n",
        "else:\n",
        "  print(\"B\")  \n",
        "print(\"Not in if\")    "
      ],
      "metadata": {
        "colab": {
          "base_uri": "https://localhost:8080/"
        },
        "id": "N45cqLHTqs50",
        "outputId": "3e91677c-1f5b-4cff-e592-5c76e3c148fc"
      },
      "execution_count": null,
      "outputs": [
        {
          "output_type": "stream",
          "name": "stdout",
          "text": [
            "15\n",
            "56\n",
            "B\n",
            "Not in if\n"
          ]
        }
      ]
    },
    {
      "cell_type": "code",
      "source": [
        "a = int(input())\n",
        "if a >= 85 :\n",
        "  print(\"A grade\")\n",
        "elif a<85 and a>=80:\n",
        "  print(\"B Grade\")\n",
        "elif a<80 and a>=75: \n",
        "  print(\"C Grade\")\n",
        "else:\n",
        "  print(\"Below average\")\n",
        "    "
      ],
      "metadata": {
        "colab": {
          "base_uri": "https://localhost:8080/"
        },
        "id": "RPDCSDAAtivI",
        "outputId": "11662e04-ab4d-4724-c966-0b08ac16eeea"
      },
      "execution_count": null,
      "outputs": [
        {
          "output_type": "stream",
          "name": "stdout",
          "text": [
            "78\n",
            "C Grade\n"
          ]
        }
      ]
    },
    {
      "cell_type": "markdown",
      "source": [
        "#Control Flow(Nested If)\n"
      ],
      "metadata": {
        "id": "2PgRso1Sx_-e"
      }
    },
    {
      "cell_type": "code",
      "source": [
        "a = int(input())\n",
        "if a>10:\n",
        "  print(\">10\")\n",
        "  print(\"Inside the top if\")\n",
        "  if a>20:\n",
        "    print(\"a>20\")\n",
        "    print(\"inside the nested if\")\n",
        "    if a>30:\n",
        "      print(\"a>30\")\n",
        "      print(\"inside the nested if of the nested if\")\n",
        "    else:\n",
        "      print(\"<=30\")\n",
        "      print(\"inside the else part of nested ifof nested if \")\n",
        "  else:\n",
        "    print(a<=20)\n",
        "    print(\"Inside the else part of nested if\")\n",
        "print(\"Outside all ifs\")            "
      ],
      "metadata": {
        "id": "HRaMJ31PxMNQ",
        "colab": {
          "base_uri": "https://localhost:8080/"
        },
        "outputId": "3f0f052a-0250-46da-bbb3-5c2340361afe"
      },
      "execution_count": 1,
      "outputs": [
        {
          "output_type": "stream",
          "name": "stdout",
          "text": [
            "15\n",
            ">10\n",
            "Inside the top if\n",
            "True\n",
            "Inside the else part of nested if\n",
            "Outside all ifs\n"
          ]
        }
      ]
    },
    {
      "cell_type": "code",
      "source": [],
      "metadata": {
        "id": "FP3iQwVOLavS"
      },
      "execution_count": null,
      "outputs": []
    },
    {
      "cell_type": "markdown",
      "source": [
        "###Focus on indentation\n"
      ],
      "metadata": {
        "id": "i_1cne5mLsIJ"
      }
    },
    {
      "cell_type": "markdown",
      "source": [
        "#Control Flow (Indentation)\n",
        "#single line comment\n"
      ],
      "metadata": {
        "id": "6MQj_FyfL4c1"
      }
    },
    {
      "cell_type": "code",
      "source": [
        "# single line comment\n",
        "\"\"\"User will enter a floating point number let say 238.915.your task is to find out the integer portion before the point(in this case 238)\n",
        "and then check is that integer portion is an even number or not?11\n",
        "\"\"\" "
      ],
      "metadata": {
        "colab": {
          "base_uri": "https://localhost:8080/",
          "height": 70
        },
        "id": "9ikba5UALy4P",
        "outputId": "81fc1ba7-a38b-4a6e-d975-2d2ea6f43764"
      },
      "execution_count": 6,
      "outputs": [
        {
          "output_type": "execute_result",
          "data": {
            "text/plain": [
              "'User will enter a floating point number let say 238.915.your task is to find out the integer portion before the point(in this case 238)\\nand then check is that integer portion is an even number or not?11\\n'"
            ],
            "application/vnd.google.colaboratory.intrinsic+json": {
              "type": "string"
            }
          },
          "metadata": {},
          "execution_count": 6
        }
      ]
    },
    {
      "cell_type": "code",
      "source": [
        "x = float(input(\"Enter a real number:\"))\n",
        "y = round(x)\n",
        "if x>0:\n",
        "    if y>x:\n",
        "      intPortion = y-1 \n",
        "    else:\n",
        "      intPortion = y\n",
        "else :\n",
        "    if y<x:\n",
        "      intPortion = y+1\n",
        "    else:\n",
        "      intPortion = y       \n",
        "print(intPortion)  \n",
        "    "
      ],
      "metadata": {
        "colab": {
          "base_uri": "https://localhost:8080/"
        },
        "id": "LV717L2FJSHf",
        "outputId": "9c6f8cfb-ac37-4c29-e6ca-9abe2b5c2d17"
      },
      "execution_count": 14,
      "outputs": [
        {
          "output_type": "stream",
          "name": "stdout",
          "text": [
            "Enter a real number:-8.2\n",
            "-8\n"
          ]
        }
      ]
    },
    {
      "cell_type": "code",
      "source": [],
      "metadata": {
        "id": "qBOxAqMzUOyt"
      },
      "execution_count": null,
      "outputs": []
    },
    {
      "cell_type": "markdown",
      "source": [
        "#Control Flow (Loops)"
      ],
      "metadata": {
        "id": "oRWAQ3T4Xebw"
      }
    },
    {
      "cell_type": "markdown",
      "source": [],
      "metadata": {
        "id": "q_qdqsEYXkof"
      }
    },
    {
      "cell_type": "code",
      "source": [
        "n = int(input())\n",
        "i = 1\n",
        "while i<n:\n",
        "  print(i**2)\n",
        "  print(\"This is iteration number: \",i)\n",
        "  i+=1\n",
        "print(\"Loop done\")  \n",
        "  "
      ],
      "metadata": {
        "colab": {
          "base_uri": "https://localhost:8080/"
        },
        "id": "FH-xK2s-etJo",
        "outputId": "0acc919c-2463-4bd5-c8ec-cd6e6f7396d7"
      },
      "execution_count": 15,
      "outputs": [
        {
          "output_type": "stream",
          "name": "stdout",
          "text": [
            "4\n",
            "1\n",
            "This is iteration number:  1\n",
            "4\n",
            "This is iteration number:  2\n",
            "9\n",
            "This is iteration number:  3\n",
            "Loop done\n"
          ]
        }
      ]
    },
    {
      "cell_type": "code",
      "source": [
        "n = 10\n",
        "i =1\n",
        "while True:\n",
        "  if i%9 != 0:\n",
        "      print(\"inside if\")\n",
        "      i +=1\n",
        "      continue\n",
        "  print(\"something\")\n",
        "  print(\"something else\")\n",
        "  break\n",
        "print(\"done\")\n",
        "\n"
      ],
      "metadata": {
        "colab": {
          "base_uri": "https://localhost:8080/"
        },
        "id": "Jz2j78N9fkG3",
        "outputId": "32a42f29-4d78-45ab-f190-5c4dba86faed"
      },
      "execution_count": 19,
      "outputs": [
        {
          "output_type": "stream",
          "name": "stdout",
          "text": [
            "inside if\n",
            "inside if\n",
            "inside if\n",
            "inside if\n",
            "inside if\n",
            "inside if\n",
            "inside if\n",
            "inside if\n",
            "something\n",
            "something else\n",
            "done\n"
          ]
        }
      ]
    },
    {
      "cell_type": "code",
      "source": [],
      "metadata": {
        "id": "1g9fPkJlgzQm"
      },
      "execution_count": null,
      "outputs": []
    },
    {
      "cell_type": "markdown",
      "source": [
        "#Control Flow"
      ],
      "metadata": {
        "id": "5g2yI-_zgzti"
      }
    },
    {
      "cell_type": "markdown",
      "source": [],
      "metadata": {
        "id": "MC5HbHcr3DeG"
      }
    },
    {
      "cell_type": "code",
      "source": [
        "L = []\n",
        "for i in range(10):\n",
        "  print(i+1)\n",
        "  L.append(i**2)\n",
        "print(L)  "
      ],
      "metadata": {
        "colab": {
          "base_uri": "https://localhost:8080/"
        },
        "id": "rW7NhXU23HmD",
        "outputId": "804f1050-eb20-4a0c-90d9-cab6ba7948d8"
      },
      "execution_count": 21,
      "outputs": [
        {
          "output_type": "stream",
          "name": "stdout",
          "text": [
            "1\n",
            "2\n",
            "3\n",
            "4\n",
            "5\n",
            "6\n",
            "7\n",
            "8\n",
            "9\n",
            "10\n",
            "[0, 1, 4, 9, 16, 25, 36, 49, 64, 81]\n"
          ]
        }
      ]
    },
    {
      "cell_type": "code",
      "source": [
        "L = []\n",
        "for i in range(0,10,2):\n",
        "  print(i+1)\n",
        "  L.append(i**2)\n",
        "print(L)  "
      ],
      "metadata": {
        "colab": {
          "base_uri": "https://localhost:8080/"
        },
        "id": "XxtdA3Ph3WgZ",
        "outputId": "347e9866-3c3c-4a37-8a8d-60aee708791d"
      },
      "execution_count": 22,
      "outputs": [
        {
          "output_type": "stream",
          "name": "stdout",
          "text": [
            "1\n",
            "3\n",
            "5\n",
            "7\n",
            "9\n",
            "[0, 4, 16, 36, 64]\n"
          ]
        }
      ]
    },
    {
      "cell_type": "markdown",
      "source": [
        "else in for loop but dont use it."
      ],
      "metadata": {
        "id": "JqmaCWBT9m0-"
      }
    },
    {
      "cell_type": "code",
      "source": [
        "S = {\"cherry\", 4.9, \"apple\"}\n",
        "for x in S:\n",
        "  print(x)\n",
        "else:\n",
        "   print(\"loop terminates with success\")\n",
        "print(\"Outside the loop\")   "
      ],
      "metadata": {
        "colab": {
          "base_uri": "https://localhost:8080/"
        },
        "id": "Ke5spSgD4Ja3",
        "outputId": "a9e9ec7d-995f-4473-ad34-eb7361d2000a"
      },
      "execution_count": 27,
      "outputs": [
        {
          "output_type": "stream",
          "name": "stdout",
          "text": [
            "apple\n",
            "4.9\n",
            "cherry\n",
            "loop terminates with success\n",
            "Outside the loop\n"
          ]
        }
      ]
    },
    {
      "cell_type": "code",
      "source": [
        "D = {\"apple\":44, \"cherry\":\"game\"}\n",
        "for x in D:\n",
        "  print(x,D[x])"
      ],
      "metadata": {
        "colab": {
          "base_uri": "https://localhost:8080/"
        },
        "id": "w0VWgCld9QXG",
        "outputId": "3dff2ce5-98d1-47eb-c7c7-016dc8f1de5b"
      },
      "execution_count": 30,
      "outputs": [
        {
          "output_type": "stream",
          "name": "stdout",
          "text": [
            "apple 44\n",
            "cherry game\n"
          ]
        }
      ]
    },
    {
      "cell_type": "code",
      "source": [
        "\"\"\"Given a list of numbers i.e [1,2,4,-5,7,9,3,2], make another list that contains all the items in sorted order from min to max . i.e your result will be another list like [-5,1,2,2,3,3,7,9]\"\"\"\n",
        "L = [1,2,4,-5,7,9,3,2]\n",
        "\n",
        "m = L[0]\n",
        "for i in L:\n",
        "  if i<m:\n",
        "    m = i\n",
        "print(m)    "
      ],
      "metadata": {
        "colab": {
          "base_uri": "https://localhost:8080/"
        },
        "id": "KPhFyZyx-QEb",
        "outputId": "08f5d41f-f455-4727-a920-fb08f7405798"
      },
      "execution_count": 31,
      "outputs": [
        {
          "output_type": "stream",
          "name": "stdout",
          "text": [
            "-5\n"
          ]
        }
      ]
    },
    {
      "cell_type": "code",
      "source": [
        "\n",
        "i = 0\n",
        "while (i<45):\n",
        "  print(i+1, end = \" \")\n",
        "  i = i+2"
      ],
      "metadata": {
        "colab": {
          "base_uri": "https://localhost:8080/"
        },
        "id": "sASG5PpGbF9z",
        "outputId": "63c3eb98-5c88-46fd-f142-a4003f683122"
      },
      "execution_count": 35,
      "outputs": [
        {
          "output_type": "stream",
          "name": "stdout",
          "text": [
            "1 3 5 7 9 11 13 15 17 19 21 23 25 27 29 31 33 35 37 39 41 43 45 "
          ]
        }
      ]
    },
    {
      "cell_type": "code",
      "source": [],
      "metadata": {
        "id": "2CQiqkWbcGhk"
      },
      "execution_count": null,
      "outputs": []
    }
  ]
}