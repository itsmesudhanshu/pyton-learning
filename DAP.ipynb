{
  "nbformat": 4,
  "nbformat_minor": 0,
  "metadata": {
    "colab": {
      "provenance": [],
      "include_colab_link": true
    },
    "kernelspec": {
      "name": "python3",
      "display_name": "Python 3"
    },
    "language_info": {
      "name": "python"
    }
  },
  "cells": [
    {
      "cell_type": "markdown",
      "metadata": {
        "id": "view-in-github",
        "colab_type": "text"
      },
      "source": [
        "<a href=\"https://colab.research.google.com/github/itsmesudhanshu/pyton-learning/blob/main/DAP.ipynb\" target=\"_parent\"><img src=\"https://colab.research.google.com/assets/colab-badge.svg\" alt=\"Open In Colab\"/></a>"
      ]
    },
    {
      "cell_type": "markdown",
      "source": [
        "### **Numpy**"
      ],
      "metadata": {
        "id": "Omc1xJswAgHQ"
      }
    },
    {
      "cell_type": "code",
      "source": [
        "\n",
        "Sure, I can help you find the factors of a number in Python! To do that, you can use a loop to iterate through all the numbers from 1 to the given number, an"
      ],
      "metadata": {
        "colab": {
          "base_uri": "https://localhost:8080/",
          "height": 280
        },
        "id": "VesZAGqf12T1",
        "outputId": "5aa2860d-de90-4ee1-9eb4-05b30e09de40"
      },
      "execution_count": null,
      "outputs": [
        {
          "output_type": "error",
          "ename": "AttributeError",
          "evalue": "module 'math' has no attribute 'Factorial'",
          "traceback": [
            "\u001b[0;31m---------------------------------------------------------------------------\u001b[0m",
            "\u001b[0;31mAttributeError\u001b[0m                            Traceback (most recent call last)",
            "\u001b[0;32m<ipython-input-5-fd87ba6b60b9>\u001b[0m in \u001b[0;36m<cell line: 2>\u001b[0;34m()\u001b[0m\n\u001b[1;32m      1\u001b[0m \u001b[0;32mimport\u001b[0m \u001b[0mmath\u001b[0m\u001b[0;34m\u001b[0m\u001b[0;34m\u001b[0m\u001b[0m\n\u001b[0;32m----> 2\u001b[0;31m \u001b[0mFactorial\u001b[0m \u001b[0;34m=\u001b[0m \u001b[0mmath\u001b[0m\u001b[0;34m.\u001b[0m\u001b[0mFactorial\u001b[0m\u001b[0;34m(\u001b[0m\u001b[0;36m24\u001b[0m\u001b[0;34m)\u001b[0m\u001b[0;34m\u001b[0m\u001b[0;34m\u001b[0m\u001b[0m\n\u001b[0m\u001b[1;32m      3\u001b[0m \u001b[0mPrint\u001b[0m\u001b[0;34m(\u001b[0m\u001b[0mfactorial\u001b[0m\u001b[0;34m)\u001b[0m\u001b[0;34m\u001b[0m\u001b[0;34m\u001b[0m\u001b[0m\n",
            "\u001b[0;31mAttributeError\u001b[0m: module 'math' has no attribute 'Factorial'"
          ]
        }
      ]
    },
    {
      "cell_type": "code",
      "source": [],
      "metadata": {
        "id": "84I3vBVDCE5Z"
      },
      "execution_count": null,
      "outputs": []
    },
    {
      "cell_type": "code",
      "execution_count": null,
      "metadata": {
        "colab": {
          "base_uri": "https://localhost:8080/"
        },
        "id": "Jmg-zBoBAVVU",
        "outputId": "40a46188-bbfc-4686-9bf1-9c9bc68d1e36"
      },
      "outputs": [
        {
          "output_type": "stream",
          "name": "stdout",
          "text": [
            "['sudhanshu' 'chouhan' 'great']\n"
          ]
        }
      ],
      "source": [
        "import numpy as np\n",
        "names=['sudhanshu','chouhan','great']\n",
        "Emp_list=np.array(names)\n",
        "print(Emp_list)"
      ]
    },
    {
      "cell_type": "code",
      "source": [
        "#how to create a 2d array\n",
        "import numpy as np\n",
        "names=['sudhanshu','chouhan','great']\n",
        "age=[1,2,3]\n",
        "Emp_list1=np.array([names,age])\n",
        "print(Emp_list1)"
      ],
      "metadata": {
        "colab": {
          "base_uri": "https://localhost:8080/"
        },
        "id": "_kvmHpYXBVgB",
        "outputId": "2e44eb2f-8f50-4e55-996a-068b2cebec50"
      },
      "execution_count": null,
      "outputs": [
        {
          "output_type": "stream",
          "name": "stdout",
          "text": [
            "[['sudhanshu' 'chouhan' 'great']\n",
            " ['1' '2' '3']]\n"
          ]
        }
      ]
    },
    {
      "cell_type": "code",
      "source": [
        "import numpy as np\n",
        "kite=np.zeros([3,3])\n",
        "print(kite)"
      ],
      "metadata": {
        "colab": {
          "base_uri": "https://localhost:8080/"
        },
        "id": "vhezTRsNCF5t",
        "outputId": "b7666afa-81d6-47e9-8af3-68809385a787"
      },
      "execution_count": null,
      "outputs": [
        {
          "output_type": "stream",
          "name": "stdout",
          "text": [
            "[[0. 0. 0.]\n",
            " [0. 0. 0.]\n",
            " [0. 0. 0.]]\n"
          ]
        }
      ]
    },
    {
      "cell_type": "code",
      "source": [
        "import numpy as np\n",
        "yuvraj=np.arange(1,10,2)\n",
        "print(yuvraj)"
      ],
      "metadata": {
        "colab": {
          "base_uri": "https://localhost:8080/"
        },
        "id": "BZqGeVxDCmGT",
        "outputId": "e4ef6ae5-58c9-4862-983b-7d0010593ebe"
      },
      "execution_count": null,
      "outputs": [
        {
          "output_type": "stream",
          "name": "stdout",
          "text": [
            "[1 3 5 7 9]\n"
          ]
        }
      ]
    },
    {
      "cell_type": "code",
      "source": [
        "import numpy as np\n",
        "sal=np.linspace(1,10,5)\n",
        "print(sal)"
      ],
      "metadata": {
        "colab": {
          "base_uri": "https://localhost:8080/"
        },
        "id": "dsTqdroaDgf0",
        "outputId": "ca8ecd8b-4985-4b1f-fff9-ee8ce043a8f7"
      },
      "execution_count": null,
      "outputs": [
        {
          "output_type": "stream",
          "name": "stdout",
          "text": [
            "[ 1.    3.25  5.5   7.75 10.  ]\n"
          ]
        }
      ]
    },
    {
      "cell_type": "code",
      "source": [
        "import numpy as np\n",
        "list1=[1.0,2.8,3.6,4.7]\n",
        "tim=[\"tom\",\"jerry\"]\n",
        "kin=np.array(list1)\n",
        "mit=np.array(tim)\n",
        "print(kin)\n",
        "print(type(kin))\n",
        "print(kin.dtype)\n",
        "print(mit)\n",
        "print(mit.dtype)\n",
        "print([mit.shape])\n",
        "print(mit.itemsize)"
      ],
      "metadata": {
        "colab": {
          "base_uri": "https://localhost:8080/"
        },
        "id": "tTAOOHCCVfGf",
        "outputId": "e5915e96-b097-4caa-dc08-d93532040697"
      },
      "execution_count": null,
      "outputs": [
        {
          "output_type": "stream",
          "name": "stdout",
          "text": [
            "[1.  2.8 3.6 4.7]\n",
            "<class 'numpy.ndarray'>\n",
            "float64\n",
            "['tom' 'jerry']\n",
            "<U5\n",
            "[(2,)]\n",
            "20\n"
          ]
        }
      ]
    },
    {
      "cell_type": "code",
      "source": [
        "import numpy as np\n",
        "\n",
        "l1=np.arange(12)\n",
        "print(l1)\n",
        "l2=l1.reshape(3,4)\n",
        "print(l2)\n",
        "l3=l1.reshape(2,2,3)\n",
        "print(l3)\n",
        "l5=np.array([1,2,3])\n",
        "print(l5)\n",
        "print(l5.shape)"
      ],
      "metadata": {
        "colab": {
          "base_uri": "https://localhost:8080/"
        },
        "id": "OsA-slfqaYki",
        "outputId": "b4131444-a66d-472d-fb99-6dfa7f006207"
      },
      "execution_count": null,
      "outputs": [
        {
          "output_type": "stream",
          "name": "stdout",
          "text": [
            "[ 0  1  2  3  4  5  6  7  8  9 10 11]\n",
            "[[ 0  1  2  3]\n",
            " [ 4  5  6  7]\n",
            " [ 8  9 10 11]]\n",
            "[[[ 0  1  2]\n",
            "  [ 3  4  5]]\n",
            "\n",
            " [[ 6  7  8]\n",
            "  [ 9 10 11]]]\n",
            "[1 2 3]\n",
            "(3,)\n"
          ]
        }
      ]
    },
    {
      "cell_type": "markdown",
      "source": [
        "#Pandas Data Series"
      ],
      "metadata": {
        "id": "L90iqfT6PuL1"
      }
    },
    {
      "cell_type": "code",
      "source": [
        "import pandas as pd\n",
        "price=pd.Series(data=[30,60,20],index=['Ice cream','pizza','coke'])\n",
        "print(price)"
      ],
      "metadata": {
        "colab": {
          "base_uri": "https://localhost:8080/"
        },
        "id": "HWw12dJNPQGv",
        "outputId": "0d06e0ed-cd6a-4482-8048-9bf64e8def9f"
      },
      "execution_count": null,
      "outputs": [
        {
          "output_type": "stream",
          "name": "stdout",
          "text": [
            "Ice cream    30\n",
            "pizza        60\n",
            "coke         20\n",
            "dtype: int64\n"
          ]
        }
      ]
    },
    {
      "cell_type": "markdown",
      "source": [
        "## Data Series With a sequence of numbers"
      ],
      "metadata": {
        "id": "bPH-hnMbQAAV"
      }
    },
    {
      "cell_type": "code",
      "source": [
        "import pandas as pd\n",
        "table=pd.Series(range(2,21,2))\n",
        "print(table)"
      ],
      "metadata": {
        "colab": {
          "base_uri": "https://localhost:8080/"
        },
        "id": "qcMd0DMjP6Q0",
        "outputId": "e9e27d21-7ddc-42e7-91a4-1925c64113c2"
      },
      "execution_count": null,
      "outputs": [
        {
          "output_type": "stream",
          "name": "stdout",
          "text": [
            "0     2\n",
            "1     4\n",
            "2     6\n",
            "3     8\n",
            "4    10\n",
            "5    12\n",
            "6    14\n",
            "7    16\n",
            "8    18\n",
            "9    20\n",
            "dtype: int64\n"
          ]
        }
      ]
    },
    {
      "cell_type": "markdown",
      "source": [
        "##How to create a Data Series Using a Python Dictionary"
      ],
      "metadata": {
        "id": "yMme1Xx1RTku"
      }
    },
    {
      "cell_type": "code",
      "source": [
        "import pandas as pd\n",
        "book=pd.Series({'B001':301,'B002':302,'B003':303})\n",
        "print(book)"
      ],
      "metadata": {
        "colab": {
          "base_uri": "https://localhost:8080/"
        },
        "id": "89_pNygdRdmF",
        "outputId": "6b304199-88e7-41b7-9250-259d0c0c52ef"
      },
      "execution_count": null,
      "outputs": [
        {
          "output_type": "stream",
          "name": "stdout",
          "text": [
            "B001    301\n",
            "B002    302\n",
            "B003    303\n",
            "dtype: int64\n"
          ]
        }
      ]
    },
    {
      "cell_type": "code",
      "source": [
        "import pandas as pd\n",
        "da=pd.Series(data='1D',index=['pen','pencil','pins'])\n",
        "print(da)"
      ],
      "metadata": {
        "colab": {
          "base_uri": "https://localhost:8080/"
        },
        "id": "d7PMyvQMrKhl",
        "outputId": "812d8e5d-74da-4961-9223-a6ff724850ea"
      },
      "execution_count": null,
      "outputs": [
        {
          "output_type": "stream",
          "name": "stdout",
          "text": [
            "pen       1D\n",
            "pencil    1D\n",
            "pins      1D\n",
            "dtype: object\n"
          ]
        }
      ]
    },
    {
      "cell_type": "markdown",
      "source": [
        "##How to create a Series that include Missing values using NaN\n"
      ],
      "metadata": {
        "id": "LdTvMZRZr2g5"
      }
    },
    {
      "cell_type": "code",
      "source": [
        "import pandas as pd\n",
        "da2= pd.Series(data=[1,np.nan,5],index=['class','sudhanshu','chouhan'])\n",
        "print(da2)\n"
      ],
      "metadata": {
        "colab": {
          "base_uri": "https://localhost:8080/"
        },
        "id": "4c1yTatcsEyE",
        "outputId": "14cb56f9-96ef-454d-99d2-89daa4f6a4b5"
      },
      "execution_count": null,
      "outputs": [
        {
          "output_type": "stream",
          "name": "stdout",
          "text": [
            "class        1.0\n",
            "sudhanshu    NaN\n",
            "chouhan      5.0\n",
            "dtype: float64\n"
          ]
        }
      ]
    },
    {
      "cell_type": "code",
      "source": [
        "import pandas as pd\n",
        "import numpy as np\n",
        "var1=np.arange(1,6)\n",
        "sqr=pd.Series(index=var1,data=var1*var1)\n",
        "print(sqr)"
      ],
      "metadata": {
        "colab": {
          "base_uri": "https://localhost:8080/"
        },
        "id": "pfZ9FUP6t4Og",
        "outputId": "5a5821d0-0641-40a4-9a2e-c85d377b3eef"
      },
      "execution_count": null,
      "outputs": [
        {
          "output_type": "stream",
          "name": "stdout",
          "text": [
            "1     1\n",
            "2     4\n",
            "3     9\n",
            "4    16\n",
            "5    25\n",
            "dtype: int64\n"
          ]
        }
      ]
    },
    {
      "cell_type": "markdown",
      "source": [
        "#Operators"
      ],
      "metadata": {
        "id": "HJ1kB0NkZ7sS"
      }
    },
    {
      "cell_type": "markdown",
      "source": [
        "##Airthematic Operators"
      ],
      "metadata": {
        "id": "EqAPPb4aaAgx"
      }
    },
    {
      "cell_type": "code",
      "source": [
        "a=10\n",
        "b=5\n",
        "print(a+b)\n",
        "print(a-b)\n",
        "print(a*b)\n",
        "print(a/b)\n",
        "print(a//b)"
      ],
      "metadata": {
        "id": "HnwaAEKiueXK",
        "colab": {
          "base_uri": "https://localhost:8080/"
        },
        "outputId": "d590087e-a24d-4388-adce-b5c043007e8a"
      },
      "execution_count": null,
      "outputs": [
        {
          "output_type": "stream",
          "name": "stdout",
          "text": [
            "15\n",
            "5\n",
            "50\n",
            "2.0\n",
            "2\n"
          ]
        }
      ]
    },
    {
      "cell_type": "code",
      "source": [
        "# %\n",
        "20%3"
      ],
      "metadata": {
        "colab": {
          "base_uri": "https://localhost:8080/"
        },
        "id": "2VSmwsINbceX",
        "outputId": "a5231567-76b9-4efd-8fa3-25d698baccf1"
      },
      "execution_count": null,
      "outputs": [
        {
          "output_type": "execute_result",
          "data": {
            "text/plain": [
              "2"
            ]
          },
          "metadata": {},
          "execution_count": 18
        }
      ]
    },
    {
      "cell_type": "code",
      "source": [
        "20**3"
      ],
      "metadata": {
        "colab": {
          "base_uri": "https://localhost:8080/"
        },
        "id": "y0JgMIrHd3dK",
        "outputId": "15204003-4610-4b15-e554-695076445b58"
      },
      "execution_count": null,
      "outputs": [
        {
          "output_type": "execute_result",
          "data": {
            "text/plain": [
              "8000"
            ]
          },
          "metadata": {},
          "execution_count": 19
        }
      ]
    },
    {
      "cell_type": "code",
      "source": [
        "\"Sudhanshu\"+2"
      ],
      "metadata": {
        "colab": {
          "base_uri": "https://localhost:8080/",
          "height": 141
        },
        "id": "y3kFlUzveRKC",
        "outputId": "f0d5c395-acd4-499a-c7a7-c699f2a2b13c"
      },
      "execution_count": null,
      "outputs": [
        {
          "output_type": "error",
          "ename": "TypeError",
          "evalue": "can only concatenate str (not \"int\") to str",
          "traceback": [
            "\u001b[0;31m---------------------------------------------------------------------------\u001b[0m",
            "\u001b[0;31mTypeError\u001b[0m                                 Traceback (most recent call last)",
            "\u001b[0;32m<ipython-input-20-3f753871ca2f>\u001b[0m in \u001b[0;36m<cell line: 1>\u001b[0;34m()\u001b[0m\n\u001b[0;32m----> 1\u001b[0;31m \u001b[0;34m\"Sudhanshu\"\u001b[0m\u001b[0;34m+\u001b[0m\u001b[0;36m2\u001b[0m\u001b[0;34m\u001b[0m\u001b[0;34m\u001b[0m\u001b[0m\n\u001b[0m",
            "\u001b[0;31mTypeError\u001b[0m: can only concatenate str (not \"int\") to str"
          ]
        }
      ]
    },
    {
      "cell_type": "code",
      "source": [
        "\"Sudhanshu\"+\"Chouhan\" #String concatenate\n"
      ],
      "metadata": {
        "colab": {
          "base_uri": "https://localhost:8080/",
          "height": 36
        },
        "id": "IxOfDtuBeV6V",
        "outputId": "7c24851e-aef5-4f21-9cde-0c098c1574b0"
      },
      "execution_count": null,
      "outputs": [
        {
          "output_type": "execute_result",
          "data": {
            "text/plain": [
              "'SudhanshuChouhan'"
            ],
            "application/vnd.google.colaboratory.intrinsic+json": {
              "type": "string"
            }
          },
          "metadata": {},
          "execution_count": 21
        }
      ]
    },
    {
      "cell_type": "code",
      "source": [
        "ao=\"3\"+\"2\"\n",
        "print(ao)\n",
        "print(type(ao))"
      ],
      "metadata": {
        "colab": {
          "base_uri": "https://localhost:8080/"
        },
        "id": "5KjQRyQUfpTv",
        "outputId": "72fb554b-9dae-4c04-b436-63c988dbcb4d"
      },
      "execution_count": null,
      "outputs": [
        {
          "output_type": "stream",
          "name": "stdout",
          "text": [
            "32\n",
            "<class 'str'>\n"
          ]
        }
      ]
    },
    {
      "cell_type": "code",
      "source": [
        "\"Sudhanshu\"*\"Sudhanshu\""
      ],
      "metadata": {
        "colab": {
          "base_uri": "https://localhost:8080/",
          "height": 141
        },
        "id": "golNgsype5VW",
        "outputId": "90a476b6-97ca-433c-9fb9-e6b741a92a77"
      },
      "execution_count": null,
      "outputs": [
        {
          "output_type": "error",
          "ename": "TypeError",
          "evalue": "can't multiply sequence by non-int of type 'str'",
          "traceback": [
            "\u001b[0;31m---------------------------------------------------------------------------\u001b[0m",
            "\u001b[0;31mTypeError\u001b[0m                                 Traceback (most recent call last)",
            "\u001b[0;32m<ipython-input-23-d9062eb0f07e>\u001b[0m in \u001b[0;36m<cell line: 1>\u001b[0;34m()\u001b[0m\n\u001b[0;32m----> 1\u001b[0;31m \u001b[0;34m\"Sudhanshu\"\u001b[0m\u001b[0;34m*\u001b[0m\u001b[0;34m\"Sudhanshu\"\u001b[0m\u001b[0;34m\u001b[0m\u001b[0;34m\u001b[0m\u001b[0m\n\u001b[0m",
            "\u001b[0;31mTypeError\u001b[0m: can't multiply sequence by non-int of type 'str'"
          ]
        }
      ]
    },
    {
      "cell_type": "code",
      "source": [
        "\"SUdhanshu\"*2"
      ],
      "metadata": {
        "colab": {
          "base_uri": "https://localhost:8080/",
          "height": 36
        },
        "id": "4wPgRms0extV",
        "outputId": "cd3b64d5-b5bd-4c2d-f741-be50dbd7a097"
      },
      "execution_count": null,
      "outputs": [
        {
          "output_type": "execute_result",
          "data": {
            "text/plain": [
              "'SUdhanshuSUdhanshu'"
            ],
            "application/vnd.google.colaboratory.intrinsic+json": {
              "type": "string"
            }
          },
          "metadata": {},
          "execution_count": 22
        }
      ]
    },
    {
      "cell_type": "markdown",
      "source": [
        "##Relational Operators\n",
        "<,>,<=,>=,!=,=="
      ],
      "metadata": {
        "id": "5pZL52S6fQyX"
      }
    },
    {
      "cell_type": "code",
      "source": [
        "10<20"
      ],
      "metadata": {
        "colab": {
          "base_uri": "https://localhost:8080/"
        },
        "id": "Pd2sotgdfNf6",
        "outputId": "7e948c6d-2d32-44d2-a80a-6de86e57d3f1"
      },
      "execution_count": null,
      "outputs": [
        {
          "output_type": "execute_result",
          "data": {
            "text/plain": [
              "True"
            ]
          },
          "metadata": {},
          "execution_count": 27
        }
      ]
    },
    {
      "cell_type": "code",
      "source": [
        "10>20"
      ],
      "metadata": {
        "colab": {
          "base_uri": "https://localhost:8080/"
        },
        "id": "7siUn8GogwHf",
        "outputId": "f610557f-ea7a-4ed2-859a-49c00939eccb"
      },
      "execution_count": null,
      "outputs": [
        {
          "output_type": "execute_result",
          "data": {
            "text/plain": [
              "False"
            ]
          },
          "metadata": {},
          "execution_count": 28
        }
      ]
    },
    {
      "cell_type": "code",
      "source": [
        "20>=20"
      ],
      "metadata": {
        "colab": {
          "base_uri": "https://localhost:8080/"
        },
        "id": "Lip0GMBKg10o",
        "outputId": "64daf61e-4bf3-4bdf-b590-adf176c2b0b2"
      },
      "execution_count": null,
      "outputs": [
        {
          "output_type": "execute_result",
          "data": {
            "text/plain": [
              "True"
            ]
          },
          "metadata": {},
          "execution_count": 29
        }
      ]
    },
    {
      "cell_type": "code",
      "source": [
        "20<=20"
      ],
      "metadata": {
        "colab": {
          "base_uri": "https://localhost:8080/"
        },
        "id": "fWYMD13Qg-Xq",
        "outputId": "0d2cd357-37a9-4e74-9925-f138a0375e81"
      },
      "execution_count": null,
      "outputs": [
        {
          "output_type": "execute_result",
          "data": {
            "text/plain": [
              "True"
            ]
          },
          "metadata": {},
          "execution_count": 32
        }
      ]
    },
    {
      "cell_type": "code",
      "source": [
        "20!=20"
      ],
      "metadata": {
        "colab": {
          "base_uri": "https://localhost:8080/"
        },
        "id": "3nzAcDiGkR2J",
        "outputId": "165333c2-11a1-4193-bf07-5c821c90557a"
      },
      "execution_count": null,
      "outputs": [
        {
          "output_type": "execute_result",
          "data": {
            "text/plain": [
              "False"
            ]
          },
          "metadata": {},
          "execution_count": 38
        }
      ]
    },
    {
      "cell_type": "code",
      "source": [
        "20==20"
      ],
      "metadata": {
        "colab": {
          "base_uri": "https://localhost:8080/"
        },
        "id": "oJP2TjXokU4d",
        "outputId": "30489c70-9370-422a-b613-60b56d88a76a"
      },
      "execution_count": null,
      "outputs": [
        {
          "output_type": "execute_result",
          "data": {
            "text/plain": [
              "True"
            ]
          },
          "metadata": {},
          "execution_count": 39
        }
      ]
    },
    {
      "cell_type": "code",
      "source": [
        "#relational Operators is also applicable to string also\n",
        "str1=\"Sudhanshu\"\n",
        "str2=\"Chouhan\"\n",
        "str1<str2"
      ],
      "metadata": {
        "colab": {
          "base_uri": "https://localhost:8080/"
        },
        "id": "ae5BIzCXhJMJ",
        "outputId": "6819b564-c84b-4c94-a538-21344edb79d5"
      },
      "execution_count": null,
      "outputs": [
        {
          "output_type": "execute_result",
          "data": {
            "text/plain": [
              "False"
            ]
          },
          "metadata": {},
          "execution_count": 43
        }
      ]
    },
    {
      "cell_type": "code",
      "source": [
        "a=100\n",
        "id(a)"
      ],
      "metadata": {
        "colab": {
          "base_uri": "https://localhost:8080/"
        },
        "id": "sg7SyjWg0ejO",
        "outputId": "e2ebf558-3f55-4049-df95-a595dab77f44"
      },
      "execution_count": null,
      "outputs": [
        {
          "output_type": "execute_result",
          "data": {
            "text/plain": [
              "136376184491344"
            ]
          },
          "metadata": {},
          "execution_count": 58
        }
      ]
    },
    {
      "cell_type": "code",
      "source": [
        "#Relational operators does not work in complex no.\n",
        "2 + 3i < 3+ i"
      ],
      "metadata": {
        "colab": {
          "base_uri": "https://localhost:8080/",
          "height": 106
        },
        "id": "k0Ews04x2o_W",
        "outputId": "e1d36973-6b7a-463c-ab38-fc22a1a4d9d0"
      },
      "execution_count": null,
      "outputs": [
        {
          "output_type": "error",
          "ename": "SyntaxError",
          "evalue": "invalid decimal literal (<ipython-input-63-7513cb2088fc>, line 2)",
          "traceback": [
            "\u001b[0;36m  File \u001b[0;32m\"<ipython-input-63-7513cb2088fc>\"\u001b[0;36m, line \u001b[0;32m2\u001b[0m\n\u001b[0;31m    2 + 3i < 3+ i\u001b[0m\n\u001b[0m        ^\u001b[0m\n\u001b[0;31mSyntaxError\u001b[0m\u001b[0;31m:\u001b[0m invalid decimal literal\n"
          ]
        }
      ]
    },
    {
      "cell_type": "code",
      "source": [
        "#Chaining is possible\n",
        "10<20<30<40\n"
      ],
      "metadata": {
        "colab": {
          "base_uri": "https://localhost:8080/"
        },
        "id": "NNekMBiW3GtT",
        "outputId": "87acb345-f348-4db0-d77b-c100bc7390a3"
      },
      "execution_count": null,
      "outputs": [
        {
          "output_type": "execute_result",
          "data": {
            "text/plain": [
              "True"
            ]
          },
          "metadata": {},
          "execution_count": 68
        }
      ]
    },
    {
      "cell_type": "code",
      "source": [
        "10>20<30<40"
      ],
      "metadata": {
        "colab": {
          "base_uri": "https://localhost:8080/"
        },
        "id": "hWTGcH1C3WJR",
        "outputId": "7381e2ff-fe6e-4013-a869-d5711e7d4157"
      },
      "execution_count": null,
      "outputs": [
        {
          "output_type": "execute_result",
          "data": {
            "text/plain": [
              "False"
            ]
          },
          "metadata": {},
          "execution_count": 67
        }
      ]
    },
    {
      "cell_type": "code",
      "source": [],
      "metadata": {
        "id": "9Hdd490t3Y_o"
      },
      "execution_count": null,
      "outputs": []
    },
    {
      "cell_type": "markdown",
      "source": [
        "How to take input from user?"
      ],
      "metadata": {
        "id": "DzIqnu1m3kIb"
      }
    },
    {
      "cell_type": "code",
      "source": [
        "a3=input()\n",
        "a4=input()\n",
        "a5=a3+a4\n",
        "print(a5)\n",
        "print(type(a3))\n",
        "print(type(a4))\n",
        "print(type(a5))\n",
        "#It means in python input taken by user is aleays string\n"
      ],
      "metadata": {
        "colab": {
          "base_uri": "https://localhost:8080/"
        },
        "id": "G1Jjzrl83qEG",
        "outputId": "163b377e-6576-48d3-bb29-3e892271e400"
      },
      "execution_count": null,
      "outputs": [
        {
          "output_type": "stream",
          "name": "stdout",
          "text": [
            "5\n",
            "6\n",
            "56\n",
            "<class 'str'>\n",
            "<class 'str'>\n",
            "<class 'str'>\n"
          ]
        }
      ]
    },
    {
      "cell_type": "code",
      "source": [
        "a6=int(a3)\n",
        "a7=int(a4)\n",
        "a8=a6+a7\n",
        "print(a8)"
      ],
      "metadata": {
        "colab": {
          "base_uri": "https://localhost:8080/"
        },
        "id": "32bu16nj6_BG",
        "outputId": "ef1a2958-df4f-4aa2-d36d-1160f44bfc96"
      },
      "execution_count": null,
      "outputs": [
        {
          "output_type": "stream",
          "name": "stdout",
          "text": [
            "11\n"
          ]
        }
      ]
    },
    {
      "cell_type": "code",
      "source": [
        "print(type(a6))\n",
        "print(type(a7))"
      ],
      "metadata": {
        "colab": {
          "base_uri": "https://localhost:8080/"
        },
        "id": "_pO6pNSZ7YZH",
        "outputId": "fc35b7cc-5db9-42ff-b69d-c53dcc87097d"
      },
      "execution_count": null,
      "outputs": [
        {
          "output_type": "stream",
          "name": "stdout",
          "text": [
            "<class 'int'>\n",
            "<class 'int'>\n"
          ]
        }
      ]
    },
    {
      "cell_type": "code",
      "source": [
        "a9=int(input())\n",
        "a10=int(input())\n",
        "a11=a9+a10\n",
        "print(a11)\n",
        "print(type(a11))"
      ],
      "metadata": {
        "colab": {
          "base_uri": "https://localhost:8080/"
        },
        "id": "Di9-xGtO9fsT",
        "outputId": "1e66cfc0-2698-475f-9b21-65d57d03fd71"
      },
      "execution_count": null,
      "outputs": [
        {
          "output_type": "stream",
          "name": "stdout",
          "text": [
            "5\n",
            "6\n",
            "11\n",
            "<class 'int'>\n"
          ]
        }
      ]
    },
    {
      "cell_type": "markdown",
      "source": [
        "##Logical Operator\n",
        "and: if both operand is true the result is true\n",
        "\n",
        "or : if any one is true the result is true\n",
        "\n",
        "not:reverse\n",
        "\n",
        "works on all type of data"
      ],
      "metadata": {
        "id": "BbgM98xB_nV3"
      }
    },
    {
      "cell_type": "code",
      "source": [
        "True and False"
      ],
      "metadata": {
        "colab": {
          "base_uri": "https://localhost:8080/"
        },
        "id": "BDDkxSrb_vAx",
        "outputId": "6933ab58-193c-4248-d294-dd48a8d16bf9"
      },
      "execution_count": null,
      "outputs": [
        {
          "output_type": "execute_result",
          "data": {
            "text/plain": [
              "False"
            ]
          },
          "metadata": {},
          "execution_count": 82
        }
      ]
    },
    {
      "cell_type": "code",
      "source": [
        "True and True"
      ],
      "metadata": {
        "colab": {
          "base_uri": "https://localhost:8080/"
        },
        "id": "lnnnrTRY_qyG",
        "outputId": "814225d5-95b8-46d5-96cd-a5a7a79eb027"
      },
      "execution_count": null,
      "outputs": [
        {
          "output_type": "execute_result",
          "data": {
            "text/plain": [
              "True"
            ]
          },
          "metadata": {},
          "execution_count": 83
        }
      ]
    },
    {
      "cell_type": "code",
      "source": [
        "True or True"
      ],
      "metadata": {
        "colab": {
          "base_uri": "https://localhost:8080/"
        },
        "id": "hMjNcbJZAuKX",
        "outputId": "3d6f5c7c-b146-42e8-ddf8-b8df76d0c9f9"
      },
      "execution_count": null,
      "outputs": [
        {
          "output_type": "execute_result",
          "data": {
            "text/plain": [
              "True"
            ]
          },
          "metadata": {},
          "execution_count": 84
        }
      ]
    },
    {
      "cell_type": "code",
      "source": [
        "True or False"
      ],
      "metadata": {
        "colab": {
          "base_uri": "https://localhost:8080/"
        },
        "id": "-m0rh5a1Axl1",
        "outputId": "51c91ae3-8686-46d2-edfc-0c8ac55f5a77"
      },
      "execution_count": null,
      "outputs": [
        {
          "output_type": "execute_result",
          "data": {
            "text/plain": [
              "True"
            ]
          },
          "metadata": {},
          "execution_count": 85
        }
      ]
    },
    {
      "cell_type": "code",
      "source": [
        "10 and 20"
      ],
      "metadata": {
        "colab": {
          "base_uri": "https://localhost:8080/"
        },
        "id": "blHYHMraA1IY",
        "outputId": "47ac622f-4474-44c1-d1b3-6e5fdfe85439"
      },
      "execution_count": null,
      "outputs": [
        {
          "output_type": "execute_result",
          "data": {
            "text/plain": [
              "20"
            ]
          },
          "metadata": {},
          "execution_count": 86
        }
      ]
    },
    {
      "cell_type": "code",
      "source": [
        "0 and 20"
      ],
      "metadata": {
        "colab": {
          "base_uri": "https://localhost:8080/"
        },
        "id": "V3eR17FQB5XA",
        "outputId": "8ac38f2a-8e20-428c-e539-d10a6d90a55f"
      },
      "execution_count": null,
      "outputs": [
        {
          "output_type": "execute_result",
          "data": {
            "text/plain": [
              "0"
            ]
          },
          "metadata": {},
          "execution_count": 87
        }
      ]
    },
    {
      "cell_type": "code",
      "source": [
        " 1 and 20"
      ],
      "metadata": {
        "colab": {
          "base_uri": "https://localhost:8080/"
        },
        "id": "NfIGb-u5B91a",
        "outputId": "bd81e30f-ff7e-4ab6-c5b6-f5f43ac1f0ee"
      },
      "execution_count": null,
      "outputs": [
        {
          "output_type": "execute_result",
          "data": {
            "text/plain": [
              "20"
            ]
          },
          "metadata": {},
          "execution_count": 88
        }
      ]
    },
    {
      "cell_type": "code",
      "source": [],
      "metadata": {
        "id": "-e-bWpJeOsyL"
      },
      "execution_count": null,
      "outputs": []
    },
    {
      "cell_type": "code",
      "source": [
        "10 and 'sudhanshu'"
      ],
      "metadata": {
        "colab": {
          "base_uri": "https://localhost:8080/",
          "height": 36
        },
        "id": "fjGrnEagCBPB",
        "outputId": "575ad378-a8d5-45d4-fdde-4a05a78d5808"
      },
      "execution_count": null,
      "outputs": [
        {
          "output_type": "execute_result",
          "data": {
            "text/plain": [
              "'sudhanshu'"
            ],
            "application/vnd.google.colaboratory.intrinsic+json": {
              "type": "string"
            }
          },
          "metadata": {},
          "execution_count": 89
        }
      ]
    },
    {
      "cell_type": "code",
      "source": [
        "2+3j and 'sudhanshu'"
      ],
      "metadata": {
        "colab": {
          "base_uri": "https://localhost:8080/",
          "height": 36
        },
        "id": "R6KID-DcChTq",
        "outputId": "36ffaad3-2313-4d63-e5cb-e753bd99b55d"
      },
      "execution_count": null,
      "outputs": [
        {
          "output_type": "execute_result",
          "data": {
            "text/plain": [
              "'sudhanshu'"
            ],
            "application/vnd.google.colaboratory.intrinsic+json": {
              "type": "string"
            }
          },
          "metadata": {},
          "execution_count": 90
        }
      ]
    },
    {
      "cell_type": "markdown",
      "source": [
        "\"For string only empty string represent false\"\n",
        "\"sudhanshu\" and \"Chouhan\""
      ],
      "metadata": {
        "id": "5tV2epMcCpNy"
      }
    },
    {
      "cell_type": "markdown",
      "source": [
        "#\"For string only empty string represent false\"\n",
        "\"sudhanshu\" and \"Chouhan\"\n"
      ],
      "metadata": {
        "id": "tr2GpVeMC8Of"
      }
    },
    {
      "cell_type": "code",
      "source": [
        "\"sudhanshu\" and \"Chouhan\""
      ],
      "metadata": {
        "colab": {
          "base_uri": "https://localhost:8080/",
          "height": 36
        },
        "id": "kUHk8qvhDHDd",
        "outputId": "e2e0c0f6-f116-47a6-d95f-08da894d5a79"
      },
      "execution_count": null,
      "outputs": [
        {
          "output_type": "execute_result",
          "data": {
            "text/plain": [
              "'Chouhan'"
            ],
            "application/vnd.google.colaboratory.intrinsic+json": {
              "type": "string"
            }
          },
          "metadata": {},
          "execution_count": 94
        }
      ]
    },
    {
      "cell_type": "code",
      "source": [
        "\"\" and \"Chouhan\""
      ],
      "metadata": {
        "colab": {
          "base_uri": "https://localhost:8080/",
          "height": 36
        },
        "id": "yZDz9B4rDMHb",
        "outputId": "d59e6b66-f7f6-4050-adb0-aa2923972060"
      },
      "execution_count": null,
      "outputs": [
        {
          "output_type": "execute_result",
          "data": {
            "text/plain": [
              "''"
            ],
            "application/vnd.google.colaboratory.intrinsic+json": {
              "type": "string"
            }
          },
          "metadata": {},
          "execution_count": 95
        }
      ]
    },
    {
      "cell_type": "code",
      "source": [
        "\"a\" or \"b\""
      ],
      "metadata": {
        "colab": {
          "base_uri": "https://localhost:8080/",
          "height": 36
        },
        "id": "b3HsFZEhE5wH",
        "outputId": "3664fbb6-301f-433e-f138-5a0dfdffb2c1"
      },
      "execution_count": null,
      "outputs": [
        {
          "output_type": "execute_result",
          "data": {
            "text/plain": [
              "'a'"
            ],
            "application/vnd.google.colaboratory.intrinsic+json": {
              "type": "string"
            }
          },
          "metadata": {},
          "execution_count": 97
        }
      ]
    },
    {
      "cell_type": "code",
      "source": [
        "10 or 20"
      ],
      "metadata": {
        "colab": {
          "base_uri": "https://localhost:8080/"
        },
        "id": "iuJvoXoxFG0n",
        "outputId": "581e8b6e-188c-4674-e4ad-df27d30272ca"
      },
      "execution_count": null,
      "outputs": [
        {
          "output_type": "execute_result",
          "data": {
            "text/plain": [
              "10"
            ]
          },
          "metadata": {},
          "execution_count": 98
        }
      ]
    },
    {
      "cell_type": "code",
      "source": [
        "0 or 20"
      ],
      "metadata": {
        "colab": {
          "base_uri": "https://localhost:8080/"
        },
        "id": "al7OwaElFKDP",
        "outputId": "d6a6fcda-7d7e-4c6c-e229-adc9723ab42b"
      },
      "execution_count": null,
      "outputs": [
        {
          "output_type": "execute_result",
          "data": {
            "text/plain": [
              "20"
            ]
          },
          "metadata": {},
          "execution_count": 100
        }
      ]
    },
    {
      "cell_type": "code",
      "source": [
        "\"sudhanshu\" or \"chouhan\""
      ],
      "metadata": {
        "colab": {
          "base_uri": "https://localhost:8080/",
          "height": 36
        },
        "id": "fD0lCzTVFZzA",
        "outputId": "7c2870ac-e4db-48ac-8642-64d84953f193"
      },
      "execution_count": null,
      "outputs": [
        {
          "output_type": "execute_result",
          "data": {
            "text/plain": [
              "'sudhanshu'"
            ],
            "application/vnd.google.colaboratory.intrinsic+json": {
              "type": "string"
            }
          },
          "metadata": {},
          "execution_count": 101
        }
      ]
    },
    {
      "cell_type": "code",
      "source": [
        "'' or \"Chouhan\""
      ],
      "metadata": {
        "colab": {
          "base_uri": "https://localhost:8080/",
          "height": 36
        },
        "id": "m_xLlY-NFdNM",
        "outputId": "025827cc-4610-4322-f4e2-3aac34981317"
      },
      "execution_count": null,
      "outputs": [
        {
          "output_type": "execute_result",
          "data": {
            "text/plain": [
              "'Chouhan'"
            ],
            "application/vnd.google.colaboratory.intrinsic+json": {
              "type": "string"
            }
          },
          "metadata": {},
          "execution_count": 102
        }
      ]
    },
    {
      "cell_type": "code",
      "source": [
        "not(False)"
      ],
      "metadata": {
        "colab": {
          "base_uri": "https://localhost:8080/"
        },
        "id": "CSMe7plNFsUE",
        "outputId": "db42fa67-3d0c-42c4-9e2c-45cd62f4666f"
      },
      "execution_count": null,
      "outputs": [
        {
          "output_type": "execute_result",
          "data": {
            "text/plain": [
              "True"
            ]
          },
          "metadata": {},
          "execution_count": 103
        }
      ]
    },
    {
      "cell_type": "code",
      "source": [
        "not(2)"
      ],
      "metadata": {
        "colab": {
          "base_uri": "https://localhost:8080/"
        },
        "id": "xr5tAwRgFvC2",
        "outputId": "06e6fa4d-723b-449c-fde9-6a6bbaee7838"
      },
      "execution_count": null,
      "outputs": [
        {
          "output_type": "execute_result",
          "data": {
            "text/plain": [
              "False"
            ]
          },
          "metadata": {},
          "execution_count": 104
        }
      ]
    },
    {
      "cell_type": "code",
      "source": [
        "not(\"Sudhanshu\"v)"
      ],
      "metadata": {
        "colab": {
          "base_uri": "https://localhost:8080/"
        },
        "id": "c3udl0hnF0LV",
        "outputId": "d3e130b7-b20c-4428-8b69-8830c1e2a315"
      },
      "execution_count": null,
      "outputs": [
        {
          "output_type": "execute_result",
          "data": {
            "text/plain": [
              "False"
            ]
          },
          "metadata": {},
          "execution_count": 105
        }
      ]
    },
    {
      "cell_type": "code",
      "source": [
        "not(0)"
      ],
      "metadata": {
        "colab": {
          "base_uri": "https://localhost:8080/"
        },
        "id": "qhKXmNACF3Mj",
        "outputId": "48b4a68b-a0c8-4646-945b-e8d2fb817005"
      },
      "execution_count": null,
      "outputs": [
        {
          "output_type": "execute_result",
          "data": {
            "text/plain": [
              "True"
            ]
          },
          "metadata": {},
          "execution_count": 106
        }
      ]
    },
    {
      "cell_type": "code",
      "source": [
        "not(\"\")"
      ],
      "metadata": {
        "colab": {
          "base_uri": "https://localhost:8080/"
        },
        "id": "EaRu6Je_F5AC",
        "outputId": "f44452c5-6bf4-48db-f7d7-7eddc841d92a"
      },
      "execution_count": null,
      "outputs": [
        {
          "output_type": "execute_result",
          "data": {
            "text/plain": [
              "True"
            ]
          },
          "metadata": {},
          "execution_count": 107
        }
      ]
    },
    {
      "cell_type": "code",
      "source": [
        "#Conversion of decimal  into binary"
      ],
      "metadata": {
        "id": "f2y9Qim6GF7o"
      },
      "execution_count": null,
      "outputs": []
    },
    {
      "cell_type": "markdown",
      "source": [
        "##Bitwise Operator\n",
        "int and bool pe work karte hain"
      ],
      "metadata": {
        "id": "TKfQs4fyJz0w"
      }
    },
    {
      "cell_type": "code",
      "source": [
        "6 & 7"
      ],
      "metadata": {
        "colab": {
          "base_uri": "https://localhost:8080/"
        },
        "id": "aCpyIFrBJ7CU",
        "outputId": "70c17fcc-3408-455e-a13c-db099f1717ec"
      },
      "execution_count": null,
      "outputs": [
        {
          "output_type": "execute_result",
          "data": {
            "text/plain": [
              "6"
            ]
          },
          "metadata": {},
          "execution_count": 110
        }
      ]
    },
    {
      "cell_type": "code",
      "source": [
        "6 | 7"
      ],
      "metadata": {
        "colab": {
          "base_uri": "https://localhost:8080/"
        },
        "id": "tdCtTvpBKNeb",
        "outputId": "cd0d1ff0-0ff9-4793-f9e4-5b3a41046679"
      },
      "execution_count": null,
      "outputs": [
        {
          "output_type": "execute_result",
          "data": {
            "text/plain": [
              "7"
            ]
          },
          "metadata": {},
          "execution_count": 114
        }
      ]
    },
    {
      "cell_type": "code",
      "source": [],
      "metadata": {
        "id": "bX_bvvidKoif"
      },
      "execution_count": null,
      "outputs": []
    },
    {
      "cell_type": "markdown",
      "source": [],
      "metadata": {
        "id": "LnLs42GDdRtD"
      }
    },
    {
      "cell_type": "code",
      "source": [
        "x=10\n",
        "x=x+10\n",
        "print(x)"
      ],
      "metadata": {
        "colab": {
          "base_uri": "https://localhost:8080/"
        },
        "id": "84uyd9BQeSlf",
        "outputId": "cf524822-271b-4c62-d056-948dc36e5899"
      },
      "execution_count": null,
      "outputs": [
        {
          "output_type": "stream",
          "name": "stdout",
          "text": [
            "20\n"
          ]
        }
      ]
    },
    {
      "cell_type": "code",
      "source": [
        "t=9\n",
        "t+=9\n",
        "t"
      ],
      "metadata": {
        "colab": {
          "base_uri": "https://localhost:8080/"
        },
        "id": "gEokK-dWejN-",
        "outputId": "c39937c4-df68-49dd-ef03-ad4f3562bfd4"
      },
      "execution_count": null,
      "outputs": [
        {
          "output_type": "execute_result",
          "data": {
            "text/plain": [
              "18"
            ]
          },
          "metadata": {},
          "execution_count": 4
        }
      ]
    },
    {
      "cell_type": "markdown",
      "source": [
        "The same has been followed by\n",
        "x=x-10==x-=10\n",
        "\n",
        "x=x*10== x*=10\n",
        "\n",
        "x=x/10== x/=10\n",
        "\n",
        "x=x//10 == x// = 10\n",
        "\n",
        "These are known as short hand."
      ],
      "metadata": {
        "id": "dKPb8AqNexac"
      }
    },
    {
      "cell_type": "markdown",
      "source": [
        "Membership operator"
      ],
      "metadata": {
        "id": "_V1jJEmfNbQ3"
      }
    },
    {
      "cell_type": "code",
      "source": [
        "\"P\" in \"Pankaj\""
      ],
      "metadata": {
        "colab": {
          "base_uri": "https://localhost:8080/"
        },
        "id": "CX-6Lp0NLpxH",
        "outputId": "f1fb3f58-a832-47ce-c6e8-c66529b28a10"
      },
      "execution_count": null,
      "outputs": [
        {
          "output_type": "execute_result",
          "data": {
            "text/plain": [
              "True"
            ]
          },
          "metadata": {},
          "execution_count": 6
        }
      ]
    },
    {
      "cell_type": "code",
      "source": [
        "\"p\" in \"Pankaj\""
      ],
      "metadata": {
        "colab": {
          "base_uri": "https://localhost:8080/"
        },
        "id": "vIL4D0xTLv16",
        "outputId": "2cabafe7-f25a-432a-9e7e-9646a0a100ac"
      },
      "execution_count": null,
      "outputs": [
        {
          "output_type": "execute_result",
          "data": {
            "text/plain": [
              "False"
            ]
          },
          "metadata": {},
          "execution_count": 7
        }
      ]
    },
    {
      "cell_type": "code",
      "source": [
        "j1=\"I am not in danger Skyler, I am the danger\"\n",
        "\"danger\" in j1\n",
        "\n"
      ],
      "metadata": {
        "colab": {
          "base_uri": "https://localhost:8080/"
        },
        "id": "0OCoXWNJLzYL",
        "outputId": "9d976c99-4033-43f2-b05d-604b3082fc19"
      },
      "execution_count": null,
      "outputs": [
        {
          "output_type": "execute_result",
          "data": {
            "text/plain": [
              "True"
            ]
          },
          "metadata": {},
          "execution_count": 13
        }
      ]
    },
    {
      "cell_type": "code",
      "source": [
        "\"Skyler, I am the danger\" in j1"
      ],
      "metadata": {
        "colab": {
          "base_uri": "https://localhost:8080/"
        },
        "id": "vMz9wpirMwy8",
        "outputId": "cd66e397-37d9-4d53-f59d-5813947e581e"
      },
      "execution_count": null,
      "outputs": [
        {
          "output_type": "execute_result",
          "data": {
            "text/plain": [
              "True"
            ]
          },
          "metadata": {},
          "execution_count": 23
        }
      ]
    },
    {
      "cell_type": "code",
      "source": [
        "\"Skyler, am\" not in j1"
      ],
      "metadata": {
        "colab": {
          "base_uri": "https://localhost:8080/"
        },
        "id": "1hEXTM9FMl1B",
        "outputId": "969fb49d-336b-490d-9ddc-02abe7a10653"
      },
      "execution_count": null,
      "outputs": [
        {
          "output_type": "execute_result",
          "data": {
            "text/plain": [
              "True"
            ]
          },
          "metadata": {},
          "execution_count": 26
        }
      ]
    },
    {
      "cell_type": "code",
      "source": [
        "l1=[1,2,3,\"Pankaj\"]\n",
        "print(\"Pankaj\" in l1)"
      ],
      "metadata": {
        "colab": {
          "base_uri": "https://localhost:8080/"
        },
        "id": "MG_czS6SNzhc",
        "outputId": "ad6689ab-3735-4377-b811-fecf5c31460a"
      },
      "execution_count": null,
      "outputs": [
        {
          "output_type": "stream",
          "name": "stdout",
          "text": [
            "True\n"
          ]
        }
      ]
    },
    {
      "cell_type": "markdown",
      "source": [
        "s1=(1,2,3,\"Pankaj\")\n",
        "print(2 in s1)"
      ],
      "metadata": {
        "id": "tCwD2-XyN_b3"
      }
    },
    {
      "cell_type": "code",
      "source": [
        "print(\"Hello\")\n",
        "print()\n",
        "print(\"hello\")\n",
        "#print function by default convert empty space in place of print() function"
      ],
      "metadata": {
        "colab": {
          "base_uri": "https://localhost:8080/"
        },
        "id": "PWsBeU08SGi8",
        "outputId": "9b4e62b2-c7e7-4932-af65-8629a9c2847d"
      },
      "execution_count": null,
      "outputs": [
        {
          "output_type": "stream",
          "name": "stdout",
          "text": [
            "Hello\n",
            "\n",
            "hello\n"
          ]
        }
      ]
    },
    {
      "cell_type": "code",
      "source": [
        "q1=10\n",
        "q2=20\n",
        "q3=30\n",
        "print(q1,q2,q3)\n",
        "#Output values are separated by space\n",
        "#If you want to specify any other seperator\n",
        "print(q1,q2,q3, sep=\"@\")\n",
        "print(q1,q2,q3, sep=\"\")"
      ],
      "metadata": {
        "colab": {
          "base_uri": "https://localhost:8080/"
        },
        "id": "t0zAhfk4S4A1",
        "outputId": "bc806128-218c-4a43-8ae8-e182e615d78a"
      },
      "execution_count": null,
      "outputs": [
        {
          "output_type": "stream",
          "name": "stdout",
          "text": [
            "10 20 30\n",
            "10@20@30\n",
            "102030\n"
          ]
        }
      ]
    },
    {
      "cell_type": "code",
      "source": [
        "print(\"Sudhanshu\"+ \"Chouhan\")"
      ],
      "metadata": {
        "colab": {
          "base_uri": "https://localhost:8080/"
        },
        "id": "eJrZppt6UCl5",
        "outputId": "c8c280eb-0aeb-4172-f1bf-2af66afd294b"
      },
      "execution_count": null,
      "outputs": [
        {
          "output_type": "stream",
          "name": "stdout",
          "text": [
            "SudhanshuChouhan\n"
          ]
        }
      ]
    },
    {
      "cell_type": "code",
      "source": [
        "print(\"Sudhanshu\",\"Chouhan\")#By default space is separator"
      ],
      "metadata": {
        "colab": {
          "base_uri": "https://localhost:8080/"
        },
        "id": "8LepqFs3UNqm",
        "outputId": "614b14ca-1755-4cd2-e404-0f8119e8c3a5"
      },
      "execution_count": null,
      "outputs": [
        {
          "output_type": "stream",
          "name": "stdout",
          "text": [
            "Sudhanshu Chouhan\n"
          ]
        }
      ]
    },
    {
      "cell_type": "code",
      "source": [
        "a=10\n",
        "b=20\n",
        "print(\"The sum of a is\", a+b)"
      ],
      "metadata": {
        "colab": {
          "base_uri": "https://localhost:8080/"
        },
        "id": "Xt9JmsmhUhAq",
        "outputId": "8c003244-4000-476f-9f4e-ff99a24385ea"
      },
      "execution_count": null,
      "outputs": [
        {
          "output_type": "stream",
          "name": "stdout",
          "text": [
            "The sum of a is 30\n"
          ]
        }
      ]
    },
    {
      "cell_type": "markdown",
      "source": [
        "# **Control Flow**"
      ],
      "metadata": {
        "id": "KBTYI4aW7fS6"
      }
    },
    {
      "cell_type": "markdown",
      "source": [
        "##Conditional\n",
        "\n",
        "If and Else"
      ],
      "metadata": {
        "id": "wSKEGUGr7nNn"
      }
    },
    {
      "cell_type": "code",
      "source": [
        "a= int(input(\"Enter the number\"))\n",
        "b=int(input(\"Enter the number\"))\n",
        "print(\"1\")\n",
        "print(\"2\")\n",
        "if a<b:\n",
        "  print(\"3\")"
      ],
      "metadata": {
        "colab": {
          "base_uri": "https://localhost:8080/"
        },
        "id": "l4dju_uK5g_p",
        "outputId": "fa3c1165-aa5e-49cc-dcce-de97875e713a"
      },
      "execution_count": null,
      "outputs": [
        {
          "output_type": "stream",
          "name": "stdout",
          "text": [
            "Enter the number5\n",
            "Enter the number6\n",
            "1\n",
            "2\n",
            "3\n"
          ]
        }
      ]
    },
    {
      "cell_type": "code",
      "source": [
        "# take a input from keyboard and print if it is even or odd\n",
        "e1= int(input(\"Take number from keyboard\"))\n",
        "if e1%2==0:\n",
        "  print(e1,\"is even number\")\n",
        "else:\n",
        "  print(e1,\"is odd number\")"
      ],
      "metadata": {
        "colab": {
          "base_uri": "https://localhost:8080/"
        },
        "id": "X49enYiq6RuQ",
        "outputId": "d5b5db28-6bf7-4a75-b48a-8208880a1d89"
      },
      "execution_count": null,
      "outputs": [
        {
          "output_type": "stream",
          "name": "stdout",
          "text": [
            "Take number from keyboard5\n",
            "5 is odd number\n"
          ]
        }
      ]
    },
    {
      "cell_type": "code",
      "source": [
        "e2=int(input(\"Please enter the year\"))\n",
        "if e2%400==0:\n",
        "  print(e2, \"is a leap year\")\n",
        "elif e2%100==0 :\n",
        "  print(e2,\"is not a leap year\")\n",
        "elif e2%4==0:\n",
        "  print(e2,\"is a leap year\")\n",
        "else:\n",
        "  print(e2,\"is not aleap year\")"
      ],
      "metadata": {
        "colab": {
          "base_uri": "https://localhost:8080/"
        },
        "id": "UNZnyPF-7JdP",
        "outputId": "20cbb0c1-8b1e-45dd-dfdc-92198b0bd2ac"
      },
      "execution_count": null,
      "outputs": [
        {
          "output_type": "stream",
          "name": "stdout",
          "text": [
            "Please enter the year1562\n",
            "1562 is not aleap year\n"
          ]
        }
      ]
    },
    {
      "cell_type": "code",
      "source": [
        "#Find maximum among 3 distinct number\n",
        "n1=int(input(\"Enter the first number\"))\n",
        "n2=int(input(\"Enter the second number\"))\n",
        "n3=int(input(\"Enter the third number\"))\n",
        "if n1>n2 and n1>n3:\n",
        "  print(n1, \"is largest among the these number\")\n",
        "else:\n",
        "  if n2>n3:\n",
        "    print(n2, \"is largest among the these number\")\n",
        "  else:\n",
        "    print(n3, \"is largest among the these number\")"
      ],
      "metadata": {
        "colab": {
          "base_uri": "https://localhost:8080/"
        },
        "id": "ozwY2QmMgqUf",
        "outputId": "28a34543-492b-46bb-c36a-d1e2ef196b13"
      },
      "execution_count": null,
      "outputs": [
        {
          "output_type": "stream",
          "name": "stdout",
          "text": [
            "Enter the first number36\n",
            "Enter the second number45\n",
            "Enter the third number21\n",
            "45 n2 is largest among the these number\n"
          ]
        }
      ]
    },
    {
      "cell_type": "markdown",
      "source": [
        "#Iterative element"
      ],
      "metadata": {
        "id": "bXU33GerlR2q"
      }
    },
    {
      "cell_type": "code",
      "source": [
        "for x in \"Sudhanshu\":\n",
        "  print(x)"
      ],
      "metadata": {
        "colab": {
          "base_uri": "https://localhost:8080/"
        },
        "id": "zpm0bWmRlWCn",
        "outputId": "3691c6e2-da22-4f74-f444-f228ff578d1f"
      },
      "execution_count": null,
      "outputs": [
        {
          "output_type": "stream",
          "name": "stdout",
          "text": [
            "S\n",
            "u\n",
            "d\n",
            "h\n",
            "a\n",
            "n\n",
            "s\n",
            "h\n",
            "u\n"
          ]
        }
      ]
    },
    {
      "cell_type": "code",
      "source": [
        "i=0\n",
        "for x in \"Sudhanshu\":\n",
        "  print(\"The element at index\",i ,\"is\",x)\n",
        "  i=i+1"
      ],
      "metadata": {
        "colab": {
          "base_uri": "https://localhost:8080/"
        },
        "id": "0TupjgD7lbjb",
        "outputId": "b8b96031-e7e9-4900-c4de-d5be800c0829"
      },
      "execution_count": null,
      "outputs": [
        {
          "output_type": "stream",
          "name": "stdout",
          "text": [
            "The element at index 0 is S\n",
            "The element at index 1 is u\n",
            "The element at index 2 is d\n",
            "The element at index 3 is h\n",
            "The element at index 4 is a\n",
            "The element at index 5 is n\n",
            "The element at index 6 is s\n",
            "The element at index 7 is h\n",
            "The element at index 8 is u\n"
          ]
        }
      ]
    },
    {
      "cell_type": "code",
      "source": [
        "for i in range(5):\n",
        "  print(i)"
      ],
      "metadata": {
        "colab": {
          "base_uri": "https://localhost:8080/"
        },
        "id": "ZLNVb2XWmLq1",
        "outputId": "ed83e3c0-ac4f-4bc8-9bc2-2d52696d070d"
      },
      "execution_count": null,
      "outputs": [
        {
          "output_type": "stream",
          "name": "stdout",
          "text": [
            "0\n",
            "1\n",
            "2\n",
            "3\n",
            "4\n"
          ]
        }
      ]
    },
    {
      "cell_type": "code",
      "source": [
        "for i in range(1,5):\n",
        "  print(i)"
      ],
      "metadata": {
        "colab": {
          "base_uri": "https://localhost:8080/"
        },
        "id": "rxiwZtpgnGjg",
        "outputId": "59a50fcf-b71c-4593-a339-7483430112c1"
      },
      "execution_count": null,
      "outputs": [
        {
          "output_type": "stream",
          "name": "stdout",
          "text": [
            "1\n",
            "2\n",
            "3\n",
            "4\n"
          ]
        }
      ]
    },
    {
      "cell_type": "code",
      "source": [
        "for i in range(5):\n",
        "  print(\"Sudhanshu\")"
      ],
      "metadata": {
        "colab": {
          "base_uri": "https://localhost:8080/"
        },
        "id": "zGpJqAwem8-3",
        "outputId": "03216089-edfa-439b-bfa8-13235293bc35"
      },
      "execution_count": null,
      "outputs": [
        {
          "output_type": "stream",
          "name": "stdout",
          "text": [
            "Sudhanshu\n",
            "Sudhanshu\n",
            "Sudhanshu\n",
            "Sudhanshu\n",
            "Sudhanshu\n"
          ]
        }
      ]
    },
    {
      "cell_type": "code",
      "source": [
        "#Program to add element from the list\n",
        "l22=[24,23,45,65,76]\n",
        "total=0\n",
        "for i in range(0,len(l22)):\n",
        "  total=total+l22[i]\n",
        "print(total)\n"
      ],
      "metadata": {
        "colab": {
          "base_uri": "https://localhost:8080/"
        },
        "id": "rjsuHYJU-yTu",
        "outputId": "5f2443b6-5bf3-4b46-9bb4-b2e5b77f7c02"
      },
      "execution_count": null,
      "outputs": [
        {
          "output_type": "stream",
          "name": "stdout",
          "text": [
            "233\n"
          ]
        }
      ]
    },
    {
      "cell_type": "code",
      "source": [
        "for i in range(1,101):\n",
        "  if(i%2==0):\n",
        "    print(i)"
      ],
      "metadata": {
        "colab": {
          "base_uri": "https://localhost:8080/"
        },
        "id": "g_4z-WV6nTMe",
        "outputId": "4d6bf66b-0e97-4db1-e42b-0d910cb81bc9"
      },
      "execution_count": null,
      "outputs": [
        {
          "output_type": "stream",
          "name": "stdout",
          "text": [
            "2\n",
            "4\n",
            "6\n",
            "8\n",
            "10\n",
            "12\n",
            "14\n",
            "16\n",
            "18\n",
            "20\n",
            "22\n",
            "24\n",
            "26\n",
            "28\n",
            "30\n",
            "32\n",
            "34\n",
            "36\n",
            "38\n",
            "40\n",
            "42\n",
            "44\n",
            "46\n",
            "48\n",
            "50\n",
            "52\n",
            "54\n",
            "56\n",
            "58\n",
            "60\n",
            "62\n",
            "64\n",
            "66\n",
            "68\n",
            "70\n",
            "72\n",
            "74\n",
            "76\n",
            "78\n",
            "80\n",
            "82\n",
            "84\n",
            "86\n",
            "88\n",
            "90\n",
            "92\n",
            "94\n",
            "96\n",
            "98\n",
            "100\n"
          ]
        }
      ]
    },
    {
      "cell_type": "code",
      "source": [
        "for i in range(5,1):\n",
        "  print(i)"
      ],
      "metadata": {
        "id": "iMKZC2X1njsb"
      },
      "execution_count": null,
      "outputs": []
    },
    {
      "cell_type": "code",
      "source": [
        "for i in range(5,2,-1):\n",
        "  print(i)"
      ],
      "metadata": {
        "colab": {
          "base_uri": "https://localhost:8080/"
        },
        "id": "EflTi3MYoLPu",
        "outputId": "2a80263e-6131-4ba9-9ac9-1b363d539ed4"
      },
      "execution_count": null,
      "outputs": [
        {
          "output_type": "stream",
          "name": "stdout",
          "text": [
            "5\n",
            "4\n",
            "3\n"
          ]
        }
      ]
    },
    {
      "cell_type": "code",
      "source": [
        "m1=int(input())\n",
        "for i in range(m1):\n",
        "  print(\"*\",end=\" \")\n"
      ],
      "metadata": {
        "colab": {
          "base_uri": "https://localhost:8080/"
        },
        "id": "P5dtDyhO1EnQ",
        "outputId": "82ee5d26-369d-4a4b-b6f6-1ad894e6143b"
      },
      "execution_count": null,
      "outputs": [
        {
          "output_type": "stream",
          "name": "stdout",
          "text": [
            "5\n",
            "* * * * * "
          ]
        }
      ]
    },
    {
      "cell_type": "code",
      "source": [
        "m3=int(input())\n",
        "for i in range(m3):\n",
        "  print(\"*\")"
      ],
      "metadata": {
        "colab": {
          "base_uri": "https://localhost:8080/"
        },
        "id": "5Dp-AkLTFs5t",
        "outputId": "f11af16d-801f-44f8-8bbc-2ca6ff9e0efa"
      },
      "execution_count": null,
      "outputs": [
        {
          "output_type": "stream",
          "name": "stdout",
          "text": [
            "5\n",
            "*\n",
            "*\n",
            "*\n",
            "*\n",
            "*\n"
          ]
        }
      ]
    },
    {
      "cell_type": "code",
      "source": [
        "m2=int(input())\n",
        "for i in range(m2):\n",
        "  for j in range(m2):\n",
        "    print(\"*\",end=\" \")\n",
        "  print()"
      ],
      "metadata": {
        "colab": {
          "base_uri": "https://localhost:8080/"
        },
        "id": "Uunncui-2ZSx",
        "outputId": "940e2f5e-eac7-4837-c9c5-75d4a47cb7c3"
      },
      "execution_count": null,
      "outputs": [
        {
          "output_type": "stream",
          "name": "stdout",
          "text": [
            "5\n",
            "* * * * * \n",
            "* * * * * \n",
            "* * * * * \n",
            "* * * * * \n",
            "* * * * * \n"
          ]
        }
      ]
    },
    {
      "cell_type": "code",
      "source": [
        "m3=int(input())\n",
        "for i in range(m3):\n",
        "  for j in range(i+1):\n",
        "    print(\"*\",end=\" \")\n",
        "  print()"
      ],
      "metadata": {
        "colab": {
          "base_uri": "https://localhost:8080/"
        },
        "id": "I3vCJiLM2z2M",
        "outputId": "b26296da-c178-4c2b-bc76-b10cb2c21ce8"
      },
      "execution_count": null,
      "outputs": [
        {
          "output_type": "stream",
          "name": "stdout",
          "text": [
            "5\n",
            "* \n",
            "* * \n",
            "* * * \n",
            "* * * * \n",
            "* * * * * \n"
          ]
        }
      ]
    },
    {
      "cell_type": "code",
      "source": [
        "m4=int(input())\n",
        "for i in range(m4):\n",
        "  for j in range(i,m4):\n",
        "    print(\"*\",end=\" \")\n",
        "  print()"
      ],
      "metadata": {
        "colab": {
          "base_uri": "https://localhost:8080/"
        },
        "id": "YDixg7Fi3RyN",
        "outputId": "ffae2906-5bc0-4f55-9663-5dd14880ef49"
      },
      "execution_count": null,
      "outputs": [
        {
          "output_type": "stream",
          "name": "stdout",
          "text": [
            "5\n",
            "* * * * * \n",
            "* * * * \n",
            "* * * \n",
            "* * \n",
            "* \n"
          ]
        }
      ]
    },
    {
      "cell_type": "code",
      "source": [
        "m5=int(input())\n",
        "for i in range(m5):\n",
        "  for j in range(i+1):\n",
        "    print(j+1,end=\" \")\n",
        "  print()"
      ],
      "metadata": {
        "colab": {
          "base_uri": "https://localhost:8080/"
        },
        "id": "4FNx3Af47HQ-",
        "outputId": "1ee08d8e-6791-4e4b-f365-6f360ef70618"
      },
      "execution_count": null,
      "outputs": [
        {
          "output_type": "stream",
          "name": "stdout",
          "text": [
            "5\n",
            "1 \n",
            "1 2 \n",
            "1 2 3 \n",
            "1 2 3 4 \n",
            "1 2 3 4 5 \n"
          ]
        }
      ]
    },
    {
      "cell_type": "code",
      "source": [
        "m6=int(input())\n",
        "for i in range(m6):\n",
        "  for j in range(m6-i-1):\n",
        "    print(\" \",end=\" \")\n",
        "  for j in range(i+1):\n",
        "    print(\"*\",end=\" \")\n",
        "  for j in range(i):\n",
        "    print(\"*\",end=\" \")\n",
        "  print()\n"
      ],
      "metadata": {
        "id": "p_QwiJN77-ep",
        "colab": {
          "base_uri": "https://localhost:8080/"
        },
        "outputId": "397ac198-ca34-4156-b1db-53d995af386d"
      },
      "execution_count": null,
      "outputs": [
        {
          "output_type": "stream",
          "name": "stdout",
          "text": [
            "5\n",
            "        * \n",
            "      * * * \n",
            "    * * * * * \n",
            "  * * * * * * * \n",
            "* * * * * * * * * \n"
          ]
        }
      ]
    },
    {
      "cell_type": "code",
      "source": [
        "#Factor of a number\n",
        "m7= int(input())\n",
        "for i in range(1,m7+1):\n",
        "  if m7%i==0:\n",
        "    print(i)\n",
        "\n"
      ],
      "metadata": {
        "colab": {
          "base_uri": "https://localhost:8080/"
        },
        "id": "UK2NfgUrqkwl",
        "outputId": "65e51f82-72e2-4160-a4e9-3419d89e959e"
      },
      "execution_count": null,
      "outputs": [
        {
          "output_type": "stream",
          "name": "stdout",
          "text": [
            "6\n",
            "1\n",
            "2\n",
            "3\n",
            "6\n"
          ]
        }
      ]
    },
    {
      "cell_type": "code",
      "source": [
        "#Storing Factors of a number in a list\n",
        "m8=int(input())\n",
        "l31=[]\n",
        "for i in range(1,m8+1):\n",
        "  if m8%i==0:\n",
        "    l31.append(i)\n",
        "print(l31)"
      ],
      "metadata": {
        "colab": {
          "base_uri": "https://localhost:8080/"
        },
        "id": "QTCCE65mrRBe",
        "outputId": "0dcf9521-4dde-4a7c-f967-f8ab53688497"
      },
      "execution_count": null,
      "outputs": [
        {
          "output_type": "stream",
          "name": "stdout",
          "text": [
            "24\n",
            "[1, 2, 3, 4, 6, 8, 12, 24]\n"
          ]
        }
      ]
    },
    {
      "cell_type": "code",
      "source": [
        "#COde for perfect number\n",
        "#Perfect number is a number in which the sum of the factor excluding the number itself is equal to the number\"\"\"\n",
        "m9=int(input())\n",
        "t=0\n",
        "for i in range(1,m9):\n",
        "  if m9%i==0:\n",
        "    t=t+i\n",
        "if t==m9:\n",
        "  print(\"The number is perfect number\")\n",
        "else:\n",
        "  print(\"The number is not a perfect number\")"
      ],
      "metadata": {
        "colab": {
          "base_uri": "https://localhost:8080/"
        },
        "id": "GL4ysLzs29va",
        "outputId": "7d13e22b-bec8-49c8-a944-6645dd68e367"
      },
      "execution_count": null,
      "outputs": [
        {
          "output_type": "stream",
          "name": "stdout",
          "text": [
            "6\n",
            "The number is perfect number\n"
          ]
        }
      ]
    },
    {
      "cell_type": "code",
      "source": [
        "#Sum of digit of number\n",
        "m10=int(input())\n",
        "t1=0\n",
        "while m10!=0:\n",
        "     t1=m10%10+t1\n",
        "     m10=m10//10\n",
        "print(t1)\n",
        "\n"
      ],
      "metadata": {
        "colab": {
          "base_uri": "https://localhost:8080/"
        },
        "id": "IkOOlVMw9bZc",
        "outputId": "514cba78-845d-473c-c3fd-bd6264a7f4d8"
      },
      "execution_count": null,
      "outputs": [
        {
          "output_type": "stream",
          "name": "stdout",
          "text": [
            "1564\n",
            "16\n"
          ]
        }
      ]
    },
    {
      "cell_type": "code",
      "source": [
        "#Armstrong number\n",
        "m11=int(input())\n",
        "m12=m11\n",
        "t2=0\n",
        "l15=len(str(m11))\n",
        "while m11!=0:\n",
        "  k=m11%10\n",
        "  t2=(k)**l15+t2\n",
        "  m11=m11//10\n",
        "if t2==m12:\n",
        "  print(m12,\"is a armstrong number\")\n",
        "else:\n",
        "  print(m12,\"is not a armstrong number\")"
      ],
      "metadata": {
        "colab": {
          "base_uri": "https://localhost:8080/"
        },
        "id": "i_67hdVhBlXU",
        "outputId": "84554abc-8138-41f1-a997-468ab2b0b415"
      },
      "execution_count": null,
      "outputs": [
        {
          "output_type": "stream",
          "name": "stdout",
          "text": [
            "123\n",
            "123 is not a armstrong number\n"
          ]
        }
      ]
    },
    {
      "cell_type": "code",
      "source": [
        "#Factorial of number\n",
        "m13=int(input())\n",
        "n1=1\n",
        "for i in range(m13,0,-1):\n",
        "  n1=i*n1\n",
        "print(\"Factorial of\",m13,\"is\",n1)"
      ],
      "metadata": {
        "colab": {
          "base_uri": "https://localhost:8080/"
        },
        "id": "557Ke3VDJrq2",
        "outputId": "1acc4d46-520d-47f6-a0bf-7cd118c50412"
      },
      "execution_count": null,
      "outputs": [
        {
          "output_type": "stream",
          "name": "stdout",
          "text": [
            "9\n",
            "Factorial of 9 is 362880\n"
          ]
        }
      ]
    },
    {
      "cell_type": "code",
      "source": [
        "# Strong number : A number is a strong number is said to be a strong number if the sum of factorial of digit\n",
        "#in  the number is equals to the number itself\n",
        "m14=int(input())\n",
        "m15=m14\n",
        "n2=1\n",
        "sum1=0\n",
        "while m14!=0:\n",
        "  j1=m14%10\n",
        "  for i in range(j1,0,-1):\n",
        "    n2=i*n2\n",
        "  sum1=n2+sum1\n",
        "  n2=1\n",
        "  m14=m14//10\n",
        "if sum1==m15:\n",
        "  print(\"The number is a strong number\")\n",
        "else:\n",
        "  print(\"Not a strong number\")\n"
      ],
      "metadata": {
        "colab": {
          "base_uri": "https://localhost:8080/"
        },
        "id": "qSPRejNXKkcs",
        "outputId": "941a2f71-67c8-4ae1-9996-c827fd8cc7e0"
      },
      "execution_count": null,
      "outputs": [
        {
          "output_type": "stream",
          "name": "stdout",
          "text": [
            "40585\n",
            "The number is a strong number\n"
          ]
        }
      ]
    },
    {
      "cell_type": "code",
      "source": [],
      "metadata": {
        "id": "oRyaZr5tR1pg"
      },
      "execution_count": null,
      "outputs": []
    },
    {
      "cell_type": "code",
      "source": [
        "  sum1=sum1+n2\n",
        "  m14=m14//10\n",
        "print(sum1)\n",
        "if sum1==m15:\n",
        "  print(\"The number\",m15,\"is a strong number\")\n",
        "else:\n",
        "  print(\"The number\", m15,\"is not a strong number\")"
      ],
      "metadata": {
        "id": "CNJMeowdEZOP"
      },
      "execution_count": null,
      "outputs": []
    },
    {
      "cell_type": "code",
      "source": [
        "#Find the product of first five natural numbers(1,2,3,4,5)\n",
        "prod=1\n",
        "for i in range(1,6):\n",
        "  prod=prod*i\n",
        "print(prod)"
      ],
      "metadata": {
        "colab": {
          "base_uri": "https://localhost:8080/"
        },
        "id": "nYgbxRbBoiQ-",
        "outputId": "13304bbd-83ef-448d-a85f-6e5ecfea9eb3"
      },
      "execution_count": null,
      "outputs": [
        {
          "output_type": "stream",
          "name": "stdout",
          "text": [
            "120\n"
          ]
        }
      ]
    },
    {
      "cell_type": "code",
      "source": [
        "# FOr finding n factorial\n",
        "n11=int(input())\n",
        "fact=1\n",
        "for i in range(1,n11+1):\n",
        "  fact=fact*i\n",
        "print(fact)"
      ],
      "metadata": {
        "colab": {
          "base_uri": "https://localhost:8080/"
        },
        "id": "y1e1DIderFUH",
        "outputId": "ea7610ba-3a91-475d-cfd6-e55f77b3a429"
      },
      "execution_count": null,
      "outputs": [
        {
          "output_type": "stream",
          "name": "stdout",
          "text": [
            "7\n",
            "5040\n"
          ]
        }
      ]
    },
    {
      "cell_type": "code",
      "source": [
        "l21=[1,2,3,4,5,6]\n",
        "sum=0\n",
        "for i in l21:\n",
        "  sum=sum+i\n",
        "print(sum)"
      ],
      "metadata": {
        "colab": {
          "base_uri": "https://localhost:8080/"
        },
        "id": "riUcvO5duB9i",
        "outputId": "83eaf9ab-4e46-44ec-c225-e7a1da905cf4"
      },
      "execution_count": null,
      "outputs": [
        {
          "output_type": "stream",
          "name": "stdout",
          "text": [
            "21\n"
          ]
        }
      ]
    },
    {
      "cell_type": "code",
      "source": [
        "l22=eval(input(\"Enter a list\"))\n",
        "sum1=0\n",
        "for i in l22:\n",
        "  sum1=sum1+i\n",
        "print(sum1)"
      ],
      "metadata": {
        "colab": {
          "base_uri": "https://localhost:8080/"
        },
        "id": "OZAxIh6GuXv8",
        "outputId": "713bc623-c828-4398-b455-b849b917469e"
      },
      "execution_count": null,
      "outputs": [
        {
          "output_type": "stream",
          "name": "stdout",
          "text": [
            "Enter a list5,6,9,4,2\n",
            "26\n"
          ]
        }
      ]
    },
    {
      "cell_type": "code",
      "source": [
        "# eval function\n",
        "r1=eval(input(\"Enter any sequence \"))\n",
        "print(type(r1))"
      ],
      "metadata": {
        "colab": {
          "base_uri": "https://localhost:8080/"
        },
        "id": "HhqjYfqRxX8y",
        "outputId": "f3be199e-8c07-4d15-a399-cfee1b25f5c9"
      },
      "execution_count": null,
      "outputs": [
        {
          "output_type": "stream",
          "name": "stdout",
          "text": [
            "Enter any sequence [1,2,3,4]\n",
            "<class 'list'>\n"
          ]
        }
      ]
    },
    {
      "cell_type": "markdown",
      "source": [
        "Take the two number and print the largest"
      ],
      "metadata": {
        "id": "iA3UVcvU7wtR"
      }
    },
    {
      "cell_type": "code",
      "source": [
        "t1= int(input(\"Enter First number\"))\n",
        "t2=int(input(\"Enter second number\"))\n",
        "c= t1 if t1>t2 else t2\n",
        "print(c)"
      ],
      "metadata": {
        "id": "-nN3OBgqfii_",
        "colab": {
          "base_uri": "https://localhost:8080/"
        },
        "outputId": "00315766-341f-47b7-ad9b-485994dcd255"
      },
      "execution_count": null,
      "outputs": [
        {
          "output_type": "stream",
          "name": "stdout",
          "text": [
            "Enter First number5\n",
            "Enter second number6\n",
            "6\n"
          ]
        }
      ]
    },
    {
      "cell_type": "code",
      "source": [
        "#Prime number program\n",
        "\n"
      ],
      "metadata": {
        "colab": {
          "base_uri": "https://localhost:8080/",
          "height": 106
        },
        "id": "n6KtqdCOyfaH",
        "outputId": "873f83af-9cc6-4065-861c-bcee75626a18"
      },
      "execution_count": null,
      "outputs": [
        {
          "output_type": "error",
          "ename": "SyntaxError",
          "evalue": "invalid syntax (<ipython-input-2-8c2a2bef5eea>, line 4)",
          "traceback": [
            "\u001b[0;36m  File \u001b[0;32m\"<ipython-input-2-8c2a2bef5eea>\"\u001b[0;36m, line \u001b[0;32m4\u001b[0m\n\u001b[0;31m    if (o1/i)!==0:\u001b[0m\n\u001b[0m               ^\u001b[0m\n\u001b[0;31mSyntaxError\u001b[0m\u001b[0;31m:\u001b[0m invalid syntax\n"
          ]
        }
      ]
    },
    {
      "cell_type": "code",
      "source": [
        "#Sum of all factor of number"
      ],
      "metadata": {
        "id": "d4-FhTrSzVzm"
      },
      "execution_count": null,
      "outputs": []
    },
    {
      "cell_type": "code",
      "source": [],
      "metadata": {
        "id": "M1oR68LazbLS"
      },
      "execution_count": null,
      "outputs": []
    },
    {
      "cell_type": "markdown",
      "source": [
        "Take three distinct number and print the largest(Through nesting)"
      ],
      "metadata": {
        "id": "6oW69uNl7uc0"
      }
    },
    {
      "cell_type": "code",
      "source": [
        "t3= int(input(\"Enter First number\"))\n",
        "t4=int(input(\"Enter Second number\"))\n",
        "t5= int(input(\"Enter Third NUmber\"))\n",
        "t6= t3 if t3>t4 and t3>t5 else t4 if t4>t5 else t5\n",
        "print(t6)"
      ],
      "metadata": {
        "colab": {
          "base_uri": "https://localhost:8080/"
        },
        "id": "fztKVrIf75u1",
        "outputId": "26519b28-7b66-4222-c7d4-e576eed9cbf0"
      },
      "execution_count": null,
      "outputs": [
        {
          "output_type": "stream",
          "name": "stdout",
          "text": [
            "Enter First number6\n",
            "Enter Second number4\n",
            "Enter Third NUmber5\n",
            "6\n"
          ]
        }
      ]
    },
    {
      "cell_type": "markdown",
      "source": [
        "a=10\n",
        "b=20\n",
        "can be written as a,b=10,20\n",
        "\n"
      ],
      "metadata": {
        "id": "4_6uShbw-eZp"
      }
    },
    {
      "cell_type": "markdown",
      "source": [
        "##**Continue**\n",
        "\n",
        "Skip the remaining portion of current iteration and continue with the next iteration."
      ],
      "metadata": {
        "id": "y0zseq4rR-C5"
      }
    },
    {
      "cell_type": "code",
      "source": [
        "for i in range(1,11):\n",
        "  print(\"Sudhanshu\")\n",
        "  if i%3==0:\n",
        "    continue\n",
        "  print(i)"
      ],
      "metadata": {
        "colab": {
          "base_uri": "https://localhost:8080/"
        },
        "id": "FDBYZmvsSjMY",
        "outputId": "f47c018e-ebd9-4aef-d11d-0c5357dbcfd4"
      },
      "execution_count": null,
      "outputs": [
        {
          "output_type": "stream",
          "name": "stdout",
          "text": [
            "Sudhanshu\n",
            "1\n",
            "Sudhanshu\n",
            "2\n",
            "Sudhanshu\n",
            "Sudhanshu\n",
            "4\n",
            "Sudhanshu\n",
            "5\n",
            "Sudhanshu\n",
            "Sudhanshu\n",
            "7\n",
            "Sudhanshu\n",
            "8\n",
            "Sudhanshu\n",
            "Sudhanshu\n",
            "10\n"
          ]
        }
      ]
    },
    {
      "cell_type": "code",
      "source": [],
      "metadata": {
        "id": "3n75PmrwR8cH"
      },
      "execution_count": null,
      "outputs": []
    },
    {
      "cell_type": "markdown",
      "source": [
        "#**Data Structure**"
      ],
      "metadata": {
        "id": "BZ8nhWWJSDeE"
      }
    },
    {
      "cell_type": "markdown",
      "source": [
        "##**Python List**\n",
        "\n",
        "Introduction to list\n",
        "\n",
        "Creating a list\n",
        "\n",
        "Features of a list"
      ],
      "metadata": {
        "id": "ahXnytL5SNek"
      }
    },
    {
      "cell_type": "markdown",
      "source": [
        "Python List: A collection of similiar or different types of a data item."
      ],
      "metadata": {
        "id": "_3XIDHElSwSy"
      }
    },
    {
      "cell_type": "code",
      "source": [
        "l1=[1,2,3,4,5,6,7]\n",
        "print(l1)"
      ],
      "metadata": {
        "colab": {
          "base_uri": "https://localhost:8080/"
        },
        "id": "4VutsuFuSMA_",
        "outputId": "a75d7dfd-c870-4746-f3a8-5ca742a17d0c"
      },
      "execution_count": null,
      "outputs": [
        {
          "output_type": "stream",
          "name": "stdout",
          "text": [
            "[1, 2, 3, 4, 5, 6, 7]\n"
          ]
        }
      ]
    },
    {
      "cell_type": "code",
      "source": [
        "#Empty list\n",
        "l0=[]\n",
        "print(l0)\n"
      ],
      "metadata": {
        "colab": {
          "base_uri": "https://localhost:8080/"
        },
        "id": "RpGMraGfSKqj",
        "outputId": "08f89a26-d42d-43d1-80d0-08e846ebedcc"
      },
      "execution_count": null,
      "outputs": [
        {
          "output_type": "stream",
          "name": "stdout",
          "text": [
            "[]\n"
          ]
        }
      ]
    },
    {
      "cell_type": "code",
      "source": [
        "#A list with duplicate items\n",
        "l2=[1,2,3,4,4,5,5,6,6]\n",
        "print(l2)\n"
      ],
      "metadata": {
        "colab": {
          "base_uri": "https://localhost:8080/"
        },
        "id": "Yzuim21hVMzV",
        "outputId": "413563ca-d98e-4805-f65a-b0a1bb829656"
      },
      "execution_count": null,
      "outputs": [
        {
          "output_type": "stream",
          "name": "stdout",
          "text": [
            "[1, 2, 3, 4, 4, 5, 5, 6, 6]\n"
          ]
        }
      ]
    },
    {
      "cell_type": "code",
      "source": [
        "# A list with different types of item\n",
        "l3=[1,2,\"N\",3.145]\n",
        "print(l3)"
      ],
      "metadata": {
        "colab": {
          "base_uri": "https://localhost:8080/"
        },
        "id": "KH1JZg_QVl3y",
        "outputId": "480a151f-a478-4036-ce1c-c80028a95599"
      },
      "execution_count": null,
      "outputs": [
        {
          "output_type": "stream",
          "name": "stdout",
          "text": [
            "[1, 2, 'N', 3.145]\n"
          ]
        }
      ]
    },
    {
      "cell_type": "markdown",
      "source": [
        "## Features of list\n",
        "###1.Duplicate items\n",
        "###2.Mutable\n",
        "###3.Various datatype storage\n"
      ],
      "metadata": {
        "id": "xMHYOqF1V6WJ"
      }
    },
    {
      "cell_type": "markdown",
      "source": [
        "#Accessing element\n",
        "1.Accessing element of Single dimensional list\n",
        "\n",
        "2.Negative indexing\n",
        "\n",
        "3.Accessing Element of a Multi dimensional list"
      ],
      "metadata": {
        "id": "5iRYtVMQWdZp"
      }
    },
    {
      "cell_type": "code",
      "source": [
        "l5=[2,4,6,8,10]\n",
        "\n",
        "l5[3]"
      ],
      "metadata": {
        "colab": {
          "base_uri": "https://localhost:8080/"
        },
        "id": "JFZtv_0FXuSd",
        "outputId": "f63a311f-87fd-4813-af97-fc462521b22b"
      },
      "execution_count": null,
      "outputs": [
        {
          "output_type": "execute_result",
          "data": {
            "text/plain": [
              "8"
            ]
          },
          "metadata": {},
          "execution_count": 9
        }
      ]
    },
    {
      "cell_type": "code",
      "source": [
        "#Negative Indexing\n",
        "#Accessing element from the last\n",
        "l5[-1]"
      ],
      "metadata": {
        "colab": {
          "base_uri": "https://localhost:8080/"
        },
        "id": "2Jj0-YzZYjCG",
        "outputId": "f4ac7509-c16e-4399-8a2d-93fe909c0ca7"
      },
      "execution_count": null,
      "outputs": [
        {
          "output_type": "execute_result",
          "data": {
            "text/plain": [
              "10"
            ]
          },
          "metadata": {},
          "execution_count": 10
        }
      ]
    },
    {
      "cell_type": "code",
      "source": [
        "#Accessing multi dimensional list: Multi dimensional list is a list contgaining another list\n",
        "l6=[[1,2,3,4],\"om\",[4,5,6,8]]\n",
        "l6[2][1]"
      ],
      "metadata": {
        "colab": {
          "base_uri": "https://localhost:8080/"
        },
        "id": "hTiK4Z_jY9M5",
        "outputId": "b48fba2e-f5a0-4fac-cdef-1b86053963cb"
      },
      "execution_count": null,
      "outputs": [
        {
          "output_type": "execute_result",
          "data": {
            "text/plain": [
              "5"
            ]
          },
          "metadata": {},
          "execution_count": 15
        }
      ]
    },
    {
      "cell_type": "markdown",
      "source": [
        "##Adding element to a list\n",
        "\n",
        "1.append () Method: A built in method to add an item at the end of a list\n",
        "list.append(value)\n",
        "2. insert()Method:\n",
        "3. extent ()Method"
      ],
      "metadata": {
        "id": "LPi8-UlSbV80"
      }
    },
    {
      "cell_type": "code",
      "source": [
        "l7=[1,2,3,4]\n",
        "l7"
      ],
      "metadata": {
        "colab": {
          "base_uri": "https://localhost:8080/"
        },
        "id": "kMWy_uHOcuSa",
        "outputId": "dd117d08-cb40-4a01-b6b0-32150c2062a2"
      },
      "execution_count": null,
      "outputs": [
        {
          "output_type": "execute_result",
          "data": {
            "text/plain": [
              "[1, 2, 3, 4]"
            ]
          },
          "metadata": {},
          "execution_count": 30
        }
      ]
    },
    {
      "cell_type": "markdown",
      "source": [
        "###Append method: Add element at the end of the list."
      ],
      "metadata": {
        "id": "E6lA-v9ofyZR"
      }
    },
    {
      "cell_type": "code",
      "source": [
        "#Append\n",
        "\n",
        "l7.append(5)\n",
        "l7"
      ],
      "metadata": {
        "colab": {
          "base_uri": "https://localhost:8080/"
        },
        "id": "HoDVZYkDZYLO",
        "outputId": "046a85da-64af-4cf0-a33f-e38749059408"
      },
      "execution_count": null,
      "outputs": [
        {
          "output_type": "execute_result",
          "data": {
            "text/plain": [
              "[1, 2, 3, 4, 5]"
            ]
          },
          "metadata": {},
          "execution_count": 31
        }
      ]
    },
    {
      "cell_type": "code",
      "source": [
        "# Adding more than one element:For this duplicate the append method\n",
        "l7.append(6)\n",
        "l7.append(7)\n",
        "l7.append(8)\n",
        "l7\n"
      ],
      "metadata": {
        "colab": {
          "base_uri": "https://localhost:8080/"
        },
        "id": "GtKlWuWId_Tq",
        "outputId": "9b11de08-69d6-41ea-c329-2caa4a6bc7d9"
      },
      "execution_count": null,
      "outputs": [
        {
          "output_type": "execute_result",
          "data": {
            "text/plain": [
              "[1, 2, 3, 4, 5, 6, 7, 8]"
            ]
          },
          "metadata": {},
          "execution_count": 32
        }
      ]
    },
    {
      "cell_type": "code",
      "source": [
        "#Adding a list as an item:\n",
        "l7.append([2,3,4])\n",
        "l7"
      ],
      "metadata": {
        "colab": {
          "base_uri": "https://localhost:8080/"
        },
        "id": "vYxxvptveaPi",
        "outputId": "189a657d-653c-4e73-da7e-1d4133ef5c6c"
      },
      "execution_count": null,
      "outputs": [
        {
          "output_type": "execute_result",
          "data": {
            "text/plain": [
              "[1, 2, 3, 4, 5, 6, 7, 8, [2, 3, 4]]"
            ]
          },
          "metadata": {},
          "execution_count": 33
        }
      ]
    },
    {
      "cell_type": "markdown",
      "source": [
        "###Insert ()Method: A built in method to add an item at a specific position\n",
        "###list.insert(position, value)\n"
      ],
      "metadata": {
        "id": "sLelheqMewIu"
      }
    },
    {
      "cell_type": "code",
      "source": [
        "l7.insert(3,5)\n",
        "l7"
      ],
      "metadata": {
        "colab": {
          "base_uri": "https://localhost:8080/"
        },
        "id": "ylpVH3zAfpb4",
        "outputId": "eb875eb2-726a-4c46-f1c1-1e067457fb2a"
      },
      "execution_count": null,
      "outputs": [
        {
          "output_type": "execute_result",
          "data": {
            "text/plain": [
              "[1, 2, 3, 5, 4, 5, 6, 7, 8, [2, 3, 4]]"
            ]
          },
          "metadata": {},
          "execution_count": 34
        }
      ]
    },
    {
      "cell_type": "markdown",
      "source": [
        "###Extend method: It is a method in which we will add item of one list into another list.\n",
        "list1.extend(list2)\n"
      ],
      "metadata": {
        "id": "bH9oHEkpfK-9"
      }
    },
    {
      "cell_type": "code",
      "source": [
        "l7\n",
        "l8=[11,12,13]\n",
        "l7.extend(l8)\n",
        "l7"
      ],
      "metadata": {
        "colab": {
          "base_uri": "https://localhost:8080/"
        },
        "id": "Qob1xKyXgLXz",
        "outputId": "6ebd84c7-ed82-4bc5-eca2-97b2fd9a3b64"
      },
      "execution_count": null,
      "outputs": [
        {
          "output_type": "execute_result",
          "data": {
            "text/plain": [
              "[1, 2, 3, 5, 4, 5, 6, 7, 8, [2, 3, 4], 11, 12, 13]"
            ]
          },
          "metadata": {},
          "execution_count": 36
        }
      ]
    },
    {
      "cell_type": "markdown",
      "source": [
        "###Input method\n",
        "#####Used to take input from the user\n",
        "##### User input is always coverted to a string."
      ],
      "metadata": {
        "id": "s-PtHfB7q6g4"
      }
    },
    {
      "cell_type": "code",
      "source": [
        "o1=input()"
      ],
      "metadata": {
        "colab": {
          "base_uri": "https://localhost:8080/"
        },
        "id": "qTwx4ZdUtOB7",
        "outputId": "b5881e3e-f8c1-47dc-8d4d-906679206f97"
      },
      "execution_count": null,
      "outputs": [
        {
          "name": "stdout",
          "output_type": "stream",
          "text": [
            "65\n"
          ]
        }
      ]
    },
    {
      "cell_type": "code",
      "source": [
        "##Typecasting\n",
        "o2=int(input())\n",
        "type(o2)"
      ],
      "metadata": {
        "colab": {
          "base_uri": "https://localhost:8080/"
        },
        "id": "vxHyJoWfteNi",
        "outputId": "29c9a668-e325-4572-e361-e4603ab3c465"
      },
      "execution_count": null,
      "outputs": [
        {
          "name": "stdout",
          "output_type": "stream",
          "text": [
            "54\n"
          ]
        },
        {
          "output_type": "execute_result",
          "data": {
            "text/plain": [
              "int"
            ]
          },
          "metadata": {},
          "execution_count": 41
        }
      ]
    },
    {
      "cell_type": "markdown",
      "source": [
        "###Input a list using loop"
      ],
      "metadata": {
        "id": "iIpVTmyYtsOW"
      }
    },
    {
      "cell_type": "code",
      "source": [
        "o3=int(input(\"Enter the number of element \"))\n",
        "l11=[]\n",
        "for i in range(o3):\n",
        "  n11=int(input())\n",
        "  l11.append(n11)\n",
        "l11\n"
      ],
      "metadata": {
        "colab": {
          "base_uri": "https://localhost:8080/"
        },
        "id": "i0GoGe3CuMOm",
        "outputId": "c1f33238-9ccf-4888-8b2d-a415c730a049"
      },
      "execution_count": null,
      "outputs": [
        {
          "name": "stdout",
          "output_type": "stream",
          "text": [
            "Enter the number of element 5\n",
            "1\n",
            "2\n",
            "8\n",
            "5\n",
            "6\n"
          ]
        },
        {
          "output_type": "execute_result",
          "data": {
            "text/plain": [
              "[1, 2, 8, 5, 6]"
            ]
          },
          "metadata": {},
          "execution_count": 44
        }
      ]
    },
    {
      "cell_type": "markdown",
      "source": [
        "###Split method\n",
        "#####Split a string into a list of substring\n",
        "#### string.split(separator, maxsplit)"
      ],
      "metadata": {
        "id": "2Lq82nkXwbm5"
      }
    },
    {
      "cell_type": "code",
      "source": [
        "str11=\"my name is khan\"\n",
        "str11.split()"
      ],
      "metadata": {
        "colab": {
          "base_uri": "https://localhost:8080/"
        },
        "id": "k5k_83y6w-QA",
        "outputId": "cb7bac99-c264-4c19-8554-b484ce72d888"
      },
      "execution_count": null,
      "outputs": [
        {
          "output_type": "execute_result",
          "data": {
            "text/plain": [
              "['my', 'name', 'is', 'khan']"
            ]
          },
          "metadata": {},
          "execution_count": 45
        }
      ]
    },
    {
      "cell_type": "code",
      "source": [
        "num11=input(\"Enter the number\").split()\n",
        "num11"
      ],
      "metadata": {
        "colab": {
          "base_uri": "https://localhost:8080/"
        },
        "id": "MS2ESn-lxKMh",
        "outputId": "962fdea7-2b6e-44f5-b58a-8915c5a4087e"
      },
      "execution_count": null,
      "outputs": [
        {
          "name": "stdout",
          "output_type": "stream",
          "text": [
            "Enter the number45 65 98 24\n"
          ]
        },
        {
          "output_type": "execute_result",
          "data": {
            "text/plain": [
              "['45', '65', '98', '24']"
            ]
          },
          "metadata": {},
          "execution_count": 48
        }
      ]
    },
    {
      "cell_type": "code",
      "source": [
        "n21=int(input(\"Enter the number of element: \"))\n",
        "num21= input(\"Enter the number: \").split()\n",
        "for i in range(0,n21):\n",
        "  num21[i]=int(num21[i])\n",
        "num21"
      ],
      "metadata": {
        "colab": {
          "base_uri": "https://localhost:8080/"
        },
        "id": "ybT2I_P87_1p",
        "outputId": "16b4d0c2-aa22-470e-af0c-9d81073cf1a4"
      },
      "execution_count": null,
      "outputs": [
        {
          "name": "stdout",
          "output_type": "stream",
          "text": [
            "Enter the number of element: 5\n",
            "Enter the number: 65 85 32 10 21\n"
          ]
        },
        {
          "output_type": "execute_result",
          "data": {
            "text/plain": [
              "[65, 85, 32, 10, 21]"
            ]
          },
          "metadata": {},
          "execution_count": 2
        }
      ]
    },
    {
      "cell_type": "code",
      "source": [
        "#Changing an item\n",
        "l51=[\"Sudhanshu\",\"Chouhan\",45,65,63,\"hero\"]\n",
        "l51[3]=\"All time\"\n",
        "l51"
      ],
      "metadata": {
        "colab": {
          "base_uri": "https://localhost:8080/"
        },
        "id": "1Wf-f9tY85Gr",
        "outputId": "246520a8-9a16-4129-df4d-f93b5c7b7b00"
      },
      "execution_count": null,
      "outputs": [
        {
          "output_type": "execute_result",
          "data": {
            "text/plain": [
              "['Sudhanshu', 'Chouhan', 45, 'All time', 63, 'hero']"
            ]
          },
          "metadata": {},
          "execution_count": 3
        }
      ]
    },
    {
      "cell_type": "code",
      "source": [
        "#Changing multiple range of values\n",
        "l61=[\"srk\",\"sk\",\"ad\",\"sak\",\"ak\",1,2,4]\n",
        "l61[3:5]=[\"ak\"]\n",
        "l61"
      ],
      "metadata": {
        "colab": {
          "base_uri": "https://localhost:8080/"
        },
        "id": "sBv9vh-h_oBR",
        "outputId": "ac113dd4-e815-4833-f286-9a3866366ac7"
      },
      "execution_count": null,
      "outputs": [
        {
          "output_type": "execute_result",
          "data": {
            "text/plain": [
              "['srk', 'sk', 'ad', 'ak', 1, 2, 4]"
            ]
          },
          "metadata": {},
          "execution_count": 5
        }
      ]
    },
    {
      "cell_type": "markdown",
      "source": [
        "##Removing the item\n",
        "###Remove an item using the remove() Method\n",
        "### Remove an item using the pop() Method\n",
        "### Remove an item using the del keyword\n",
        "### Clear the list using the clear() Method"
      ],
      "metadata": {
        "id": "SIcJVVYXAfSD"
      }
    },
    {
      "cell_type": "code",
      "source": [
        "l61=[\"Sudhanshu\",\"Chouhan\",\"Samatrix\"]\n",
        "l61.remove(\"Sudhanshu\")\n",
        "l61"
      ],
      "metadata": {
        "colab": {
          "base_uri": "https://localhost:8080/"
        },
        "id": "PaKZzYlbB-Kx",
        "outputId": "53b1aa38-a86d-4203-e274-14fc2e7f390d"
      },
      "execution_count": null,
      "outputs": [
        {
          "output_type": "execute_result",
          "data": {
            "text/plain": [
              "['Chouhan', 'Samatrix']"
            ]
          },
          "metadata": {},
          "execution_count": 6
        }
      ]
    },
    {
      "cell_type": "code",
      "source": [
        "l71=[\"Sudhanshu\",\"Chouhan\",\"Samatrix\"]\n",
        "l71.pop(1)\n",
        "l71\n",
        "#If the index is not specified then the last item will be deleted\n"
      ],
      "metadata": {
        "colab": {
          "base_uri": "https://localhost:8080/"
        },
        "id": "U8X-MTpLCeFy",
        "outputId": "428473ab-1276-46a6-9111-91447c5b17c2"
      },
      "execution_count": null,
      "outputs": [
        {
          "output_type": "execute_result",
          "data": {
            "text/plain": [
              "['Sudhanshu', 'Samatrix']"
            ]
          },
          "metadata": {},
          "execution_count": 7
        }
      ]
    },
    {
      "cell_type": "markdown",
      "source": [
        "l81=[\"Sudhanshu\",\"Chouhan\",\"Samatrix\"]\n",
        "del l81\n",
        "l81\n"
      ],
      "metadata": {
        "id": "ruFkU2tqDMk2"
      }
    },
    {
      "cell_type": "code",
      "source": [
        "l81=[\"Sudhanshu\",\"Chouhan\",\"Samatrix\"]\n",
        "del l81\n",
        "l81"
      ],
      "metadata": {
        "colab": {
          "base_uri": "https://localhost:8080/",
          "height": 176
        },
        "id": "98FPyzZzC80N",
        "outputId": "b367a4b1-d9e7-4c25-d09e-316b7758797f"
      },
      "execution_count": null,
      "outputs": [
        {
          "output_type": "error",
          "ename": "NameError",
          "evalue": "name 'l81' is not defined",
          "traceback": [
            "\u001b[0;31m---------------------------------------------------------------------------\u001b[0m",
            "\u001b[0;31mNameError\u001b[0m                                 Traceback (most recent call last)",
            "\u001b[0;32m<ipython-input-9-4e9aa9d81160>\u001b[0m in \u001b[0;36m<cell line: 3>\u001b[0;34m()\u001b[0m\n\u001b[1;32m      1\u001b[0m \u001b[0ml81\u001b[0m\u001b[0;34m=\u001b[0m\u001b[0;34m[\u001b[0m\u001b[0;34m\"Sudhanshu\"\u001b[0m\u001b[0;34m,\u001b[0m\u001b[0;34m\"Chouhan\"\u001b[0m\u001b[0;34m,\u001b[0m\u001b[0;34m\"Samatrix\"\u001b[0m\u001b[0;34m]\u001b[0m\u001b[0;34m\u001b[0m\u001b[0;34m\u001b[0m\u001b[0m\n\u001b[1;32m      2\u001b[0m \u001b[0;32mdel\u001b[0m \u001b[0ml81\u001b[0m\u001b[0;34m\u001b[0m\u001b[0;34m\u001b[0m\u001b[0m\n\u001b[0;32m----> 3\u001b[0;31m \u001b[0ml81\u001b[0m\u001b[0;34m\u001b[0m\u001b[0;34m\u001b[0m\u001b[0m\n\u001b[0m",
            "\u001b[0;31mNameError\u001b[0m: name 'l81' is not defined"
          ]
        }
      ]
    },
    {
      "cell_type": "code",
      "source": [
        "l91=[\"Sudhanshu\",\"Chouhan\",\"Samatrix\"]\n",
        "l91.clear()\n",
        "l91"
      ],
      "metadata": {
        "colab": {
          "base_uri": "https://localhost:8080/"
        },
        "id": "31UeL29sFkTD",
        "outputId": "975eb28a-a9c7-45d6-ed53-23649e3e8607"
      },
      "execution_count": null,
      "outputs": [
        {
          "output_type": "execute_result",
          "data": {
            "text/plain": [
              "[]"
            ]
          },
          "metadata": {},
          "execution_count": 10
        }
      ]
    },
    {
      "cell_type": "code",
      "source": [],
      "metadata": {
        "id": "zkO1yLzNFvWc"
      },
      "execution_count": null,
      "outputs": []
    },
    {
      "cell_type": "code",
      "source": [
        "#Python program to convert the month name to a number of days\n"
      ],
      "metadata": {
        "id": "d0isQlzSOwxW"
      },
      "execution_count": null,
      "outputs": []
    },
    {
      "cell_type": "markdown",
      "source": [
        "1.Calculate the sum of all numbers from 1 to a given number\n",
        "\n",
        "2.Write a program to print multiplication table of a given number\n",
        "\n",
        "3.Display numbers from a list using loop\n",
        "\n",
        "4.Count the total number of digits in a number\n",
        "\n",
        "5.Print the following pattern\n",
        "\n",
        "6.Print list in reverse order using a loop\n",
        "\n",
        "7.Display numbers from -10 to -1 using for loop\n",
        "\n",
        "8.Use else block to display a message “Done” after successful execution of for\n",
        "loop\n",
        "\n",
        "9.Write a program to display all prime numbers within a range\n",
        "\n",
        "10.Display Fibonacci series up to 10 terms\n",
        "\n",
        "11.Find the factorial of a given number\n",
        "\n",
        "12.Reverse a given integer number\n",
        "\n",
        "13.Use a loop to display elements from a given list present at odd index positions\n",
        "\n",
        "14.Calculate the cube of all numbers from 1 to a given number\n",
        "\n",
        "15.Find the sum of the series upto n terms"
      ],
      "metadata": {
        "id": "57Dp5JTIPylr"
      }
    },
    {
      "cell_type": "code",
      "source": [
        "##Introduction to  List Comprehension\n",
        "###Provide a shorter syntax while creating a new list from the existing.\n",
        "###"
      ],
      "metadata": {
        "id": "dGX8mHSWfZi-"
      },
      "execution_count": null,
      "outputs": []
    },
    {
      "cell_type": "code",
      "source": [
        "name1=[\"Amogh\",\"Shreyansh\",\"Shreyansh\",\"Vikram\",\"Vishal\"]\n",
        "S_names=[]\n",
        "for i in name1:\n",
        "  if \"S\" in i:\n",
        "    S_names.append(name1)\n",
        "\n",
        "S_names\n"
      ],
      "metadata": {
        "colab": {
          "base_uri": "https://localhost:8080/"
        },
        "id": "pLU5UWzOftxa",
        "outputId": "3ec59a9a-966f-40da-a1d5-244d6b4f8e3c"
      },
      "execution_count": null,
      "outputs": [
        {
          "output_type": "execute_result",
          "data": {
            "text/plain": [
              "[['Amogh', 'Shreyansh', 'Shreyansh', 'Vikram', 'Vishal'],\n",
              " ['Amogh', 'Shreyansh', 'Shreyansh', 'Vikram', 'Vishal']]"
            ]
          },
          "metadata": {},
          "execution_count": 5
        }
      ]
    },
    {
      "cell_type": "code",
      "source": [
        "name1=[\"Amogh\",\"Shreyansh\",\"Sharma\",\"Vikram\",\"Vishal\"]\n",
        "S_names=[]\n",
        "for name in name1:\n",
        "  if \"S\" in name:\n",
        "    S_names.append(name)\n",
        "\n",
        "S_names\n"
      ],
      "metadata": {
        "colab": {
          "base_uri": "https://localhost:8080/"
        },
        "id": "pX25LHmIhCAh",
        "outputId": "f552b032-d938-49f5-be80-b00e45edba11"
      },
      "execution_count": null,
      "outputs": [
        {
          "output_type": "execute_result",
          "data": {
            "text/plain": [
              "['Shreyansh', 'Sharma']"
            ]
          },
          "metadata": {},
          "execution_count": 8
        }
      ]
    },
    {
      "cell_type": "code",
      "source": [
        "S_name=[name for name in name1 if \"S\" in name]\n",
        "S_name"
      ],
      "metadata": {
        "colab": {
          "base_uri": "https://localhost:8080/"
        },
        "id": "IgZF9vCHhfgT",
        "outputId": "15ddfad1-3a16-4996-f0d1-fef3e8d31a52"
      },
      "execution_count": null,
      "outputs": [
        {
          "output_type": "execute_result",
          "data": {
            "text/plain": [
              "['Shreyansh', 'Sharma']"
            ]
          },
          "metadata": {},
          "execution_count": 10
        }
      ]
    },
    {
      "cell_type": "markdown",
      "source": [
        "###Syntax:list=[expression for item in iterable if condition== True]\n",
        "####Condition checking is optional here"
      ],
      "metadata": {
        "id": "akEpoV1Qj3x2"
      }
    },
    {
      "cell_type": "code",
      "source": [
        "S_name= [name for name in name1 if \"S\" in name]\n",
        "S_name"
      ],
      "metadata": {
        "colab": {
          "base_uri": "https://localhost:8080/"
        },
        "id": "LrRSeOwUkFT4",
        "outputId": "4aee33e3-0761-444d-d435-3ee289cf2c86"
      },
      "execution_count": null,
      "outputs": [
        {
          "output_type": "execute_result",
          "data": {
            "text/plain": [
              "['Shreyansh', 'Sharma']"
            ]
          },
          "metadata": {},
          "execution_count": 11
        }
      ]
    },
    {
      "cell_type": "code",
      "source": [
        "name1_copy=[name for name in name1]\n",
        "name1_copy"
      ],
      "metadata": {
        "colab": {
          "base_uri": "https://localhost:8080/"
        },
        "id": "BmTmPK2ulfCX",
        "outputId": "c628a1e5-4703-46a6-981a-e52c6f1aea35"
      },
      "execution_count": null,
      "outputs": [
        {
          "output_type": "execute_result",
          "data": {
            "text/plain": [
              "['Amogh', 'Shreyansh', 'Sharma', 'Vikram', 'Vishal']"
            ]
          },
          "metadata": {},
          "execution_count": 13
        }
      ]
    },
    {
      "cell_type": "markdown",
      "source": [
        "#Dictionary"
      ],
      "metadata": {
        "id": "yc4nvczvsODI"
      }
    },
    {
      "cell_type": "markdown",
      "source": [
        "##A collection of key-value pairs.\n",
        "##Syntax: dict_name={key1:value1, key2: value2,....}"
      ],
      "metadata": {
        "id": "r4zHKd9KsR_T"
      }
    },
    {
      "cell_type": "code",
      "source": [
        "name={\"Kapil\": \"anshul\",\"saurabh\":\"agarwal\"}\n",
        "name"
      ],
      "metadata": {
        "colab": {
          "base_uri": "https://localhost:8080/"
        },
        "id": "qWNu0cffsp7q",
        "outputId": "bec98f6d-4263-460a-aad8-b12331baae74"
      },
      "execution_count": 1,
      "outputs": [
        {
          "output_type": "execute_result",
          "data": {
            "text/plain": [
              "{'Kapil': 'anshul', 'saurabh': 'agarwal'}"
            ]
          },
          "metadata": {},
          "execution_count": 1
        }
      ]
    },
    {
      "cell_type": "code",
      "source": [
        "###Can not have two item with same key.\n",
        "name1={\"Kapil\":\"anshul\",\"Kapil\":\"Narayan\",\"Saurabh\":\"agarwal\"}\n",
        "name1"
      ],
      "metadata": {
        "colab": {
          "base_uri": "https://localhost:8080/"
        },
        "id": "EGOiTmvltAfT",
        "outputId": "c912294c-36f0-4941-c0f8-f0f021ab3cf7"
      },
      "execution_count": 2,
      "outputs": [
        {
          "output_type": "execute_result",
          "data": {
            "text/plain": [
              "{'Kapil': 'Narayan', 'Saurabh': 'agarwal'}"
            ]
          },
          "metadata": {},
          "execution_count": 2
        }
      ]
    },
    {
      "cell_type": "code",
      "source": [
        "#Dictionaries are mutable\n",
        "name2={\"Kapil\":\"anshul\",\"saurabh\":\"agarwal\"}\n",
        "name2[\"Kapil\"]=\"narayan\"\n",
        "name2"
      ],
      "metadata": {
        "colab": {
          "base_uri": "https://localhost:8080/"
        },
        "id": "eFqm7wuatewE",
        "outputId": "c004c228-1a79-4250-cc67-e7c4fc108542"
      },
      "execution_count": 5,
      "outputs": [
        {
          "output_type": "execute_result",
          "data": {
            "text/plain": [
              "{'Kapil': 'narayan', 'saurabh': 'agarwal'}"
            ]
          },
          "metadata": {},
          "execution_count": 5
        }
      ]
    },
    {
      "cell_type": "markdown",
      "source": [
        "##Length of a dictionary\n",
        "###Can be determined using the len() function.\n",
        "### Gives the count of key-value pairs of a dictionary"
      ],
      "metadata": {
        "id": "aCVhSo3OuPN5"
      }
    },
    {
      "cell_type": "code",
      "source": [
        "name3={\"Kapil\":\"anshul\",\"saurabh\":\"agarwal\"}\n",
        "len(name3)"
      ],
      "metadata": {
        "colab": {
          "base_uri": "https://localhost:8080/"
        },
        "id": "xmeTQsURugpa",
        "outputId": "93e1ce93-03de-43fd-e001-91625725148e"
      },
      "execution_count": 6,
      "outputs": [
        {
          "output_type": "execute_result",
          "data": {
            "text/plain": [
              "2"
            ]
          },
          "metadata": {},
          "execution_count": 6
        }
      ]
    },
    {
      "cell_type": "markdown",
      "source": [
        "##The dict() Constructor\n",
        "\n",
        "Alternative way to create a dictionary"
      ],
      "metadata": {
        "id": "KGVIJIwxuqZX"
      }
    },
    {
      "cell_type": "code",
      "source": [
        "name4=dict(Kapil=\"anshul\",saurabh=\"agarwal\")\n",
        "name4"
      ],
      "metadata": {
        "colab": {
          "base_uri": "https://localhost:8080/"
        },
        "id": "bQSWc0mfu0tm",
        "outputId": "7daa82c7-3b3c-4c2e-8616-b85495c8ae3d"
      },
      "execution_count": 7,
      "outputs": [
        {
          "output_type": "execute_result",
          "data": {
            "text/plain": [
              "{'Kapil': 'anshul', 'saurabh': 'agarwal'}"
            ]
          },
          "metadata": {},
          "execution_count": 7
        }
      ]
    },
    {
      "cell_type": "markdown",
      "source": [
        "##Accessing elements from dictionary"
      ],
      "metadata": {
        "id": "xyugozuOvI1d"
      }
    },
    {
      "cell_type": "markdown",
      "source": [
        "###Accessing values using key Names\n",
        "###Accessing values using get() Method\n",
        "###Accessing keys using keys() Method\n",
        "### Accessing values using values() Method\n",
        "###Accessing Items using items() Methods"
      ],
      "metadata": {
        "id": "7LXoXUxqvP55"
      }
    },
    {
      "cell_type": "code",
      "source": [
        "#Accessing values using key Names\n",
        "name4={\"Kapil\":\"anshul\",\"saurabh\":\"agarwal\"}\n",
        "name4[\"Kapil\"]"
      ],
      "metadata": {
        "colab": {
          "base_uri": "https://localhost:8080/",
          "height": 36
        },
        "id": "pw87lzSRvwZ0",
        "outputId": "c53418da-69b9-4d04-cb36-113d0b10237d"
      },
      "execution_count": 8,
      "outputs": [
        {
          "output_type": "execute_result",
          "data": {
            "text/plain": [
              "'anshul'"
            ],
            "application/vnd.google.colaboratory.intrinsic+json": {
              "type": "string"
            }
          },
          "metadata": {},
          "execution_count": 8
        }
      ]
    },
    {
      "cell_type": "code",
      "source": [
        "#Accessing values using get() Method\n",
        "name5={\"Kapil\":\"anshul\",\"saurabh\":\"agarwal\"}\n",
        "name5.get(\"Kapil\")"
      ],
      "metadata": {
        "colab": {
          "base_uri": "https://localhost:8080/",
          "height": 36
        },
        "id": "wKIMn8ZdwLe9",
        "outputId": "d4c4d409-50ae-4b9a-c1ca-6dd4e3751f79"
      },
      "execution_count": 9,
      "outputs": [
        {
          "output_type": "execute_result",
          "data": {
            "text/plain": [
              "'anshul'"
            ],
            "application/vnd.google.colaboratory.intrinsic+json": {
              "type": "string"
            }
          },
          "metadata": {},
          "execution_count": 9
        }
      ]
    },
    {
      "cell_type": "code",
      "source": [
        "#Acessing key using keys() Method\n",
        "#Return a view object reflects any changes done to the dictionary.\n",
        "name6={\"Kapil\":\"anshul\",\"saurabh\":\"agarwal\"}\n",
        "name6_keys=name6.keys()\n",
        "name6_keys\n"
      ],
      "metadata": {
        "colab": {
          "base_uri": "https://localhost:8080/"
        },
        "id": "FEpivDMpwnY-",
        "outputId": "9096450e-018f-4168-b1cf-9682b18e94fb"
      },
      "execution_count": 16,
      "outputs": [
        {
          "output_type": "execute_result",
          "data": {
            "text/plain": [
              "dict_keys(['Kapil', 'saurabh'])"
            ]
          },
          "metadata": {},
          "execution_count": 16
        }
      ]
    },
    {
      "cell_type": "code",
      "source": [
        "name6[\"Atul\"]=\"Patidar\"\n",
        "name6.keys()"
      ],
      "metadata": {
        "colab": {
          "base_uri": "https://localhost:8080/"
        },
        "id": "oJmYdUp5y2g_",
        "outputId": "7905d351-2235-48cf-af42-9fb8ee7282a4"
      },
      "execution_count": 17,
      "outputs": [
        {
          "output_type": "execute_result",
          "data": {
            "text/plain": [
              "dict_keys(['Kapil', 'saurabh', 'Atul'])"
            ]
          },
          "metadata": {},
          "execution_count": 17
        }
      ]
    },
    {
      "cell_type": "code",
      "source": [
        "#Acessing values using values() Method\n",
        "#Return a view object reflects any changes done to the dictionary.\n",
        "name6={\"Kapil\":\"anshul\",\"saurabh\":\"agarwal\"}\n",
        "name6_values=name6.values()\n",
        "name6_values\n"
      ],
      "metadata": {
        "colab": {
          "base_uri": "https://localhost:8080/"
        },
        "id": "ZUpA-glByNez",
        "outputId": "d1d96d86-169d-4375-dbc2-7b3003c88d39"
      },
      "execution_count": 14,
      "outputs": [
        {
          "output_type": "execute_result",
          "data": {
            "text/plain": [
              "dict_values(['anshul', 'agarwal'])"
            ]
          },
          "metadata": {},
          "execution_count": 14
        }
      ]
    },
    {
      "cell_type": "code",
      "source": [
        "name6[\"Atul\"]=\"Patidar\"\n",
        "name6.values()"
      ],
      "metadata": {
        "colab": {
          "base_uri": "https://localhost:8080/"
        },
        "id": "sbPKySmxyvGg",
        "outputId": "20ccf722-d5f4-4ec1-c87f-bce9bfe29169"
      },
      "execution_count": 15,
      "outputs": [
        {
          "output_type": "execute_result",
          "data": {
            "text/plain": [
              "dict_values(['anshul', 'agarwal', 'Patidar'])"
            ]
          },
          "metadata": {},
          "execution_count": 15
        }
      ]
    },
    {
      "cell_type": "code",
      "source": [
        "#Accessing items using\n",
        "name6.items()"
      ],
      "metadata": {
        "colab": {
          "base_uri": "https://localhost:8080/"
        },
        "id": "S2Wu_QDhy78P",
        "outputId": "16fdb22a-524e-4d7a-e981-f904536632fe"
      },
      "execution_count": 19,
      "outputs": [
        {
          "output_type": "execute_result",
          "data": {
            "text/plain": [
              "dict_items([('Kapil', 'anshul'), ('saurabh', 'agarwal'), ('Atul', 'Patidar')])"
            ]
          },
          "metadata": {},
          "execution_count": 19
        }
      ]
    },
    {
      "cell_type": "markdown",
      "source": [
        "##Changing values using key names\n",
        "##Changing values usnig update() Method\n",
        "##Adding New Item using key Names\n",
        "##Adding New item using update() Method"
      ],
      "metadata": {
        "id": "UcdbBR3xzcVK"
      }
    },
    {
      "cell_type": "code",
      "source": [
        "name7={'Kapil': 'anshul', 'saurabh': 'agarwal', 'Atul': 'Patidar'}\n",
        "name7"
      ],
      "metadata": {
        "colab": {
          "base_uri": "https://localhost:8080/"
        },
        "id": "v5hgso6yz_dr",
        "outputId": "a756f42f-c5cf-479d-c90c-64867e8a9372"
      },
      "execution_count": 30,
      "outputs": [
        {
          "output_type": "execute_result",
          "data": {
            "text/plain": [
              "{'Kapil': 'anshul', 'saurabh': 'agarwal', 'Atul': 'Patidar'}"
            ]
          },
          "metadata": {},
          "execution_count": 30
        }
      ]
    },
    {
      "cell_type": "code",
      "source": [
        "name7[\"Kapil\"]=\"narayan\"\n",
        "name7"
      ],
      "metadata": {
        "colab": {
          "base_uri": "https://localhost:8080/"
        },
        "id": "3ND4B7fp0fNP",
        "outputId": "02a661b1-e263-43a6-b346-b4d50bdfddb9"
      },
      "execution_count": 31,
      "outputs": [
        {
          "output_type": "execute_result",
          "data": {
            "text/plain": [
              "{'Kapil': 'narayan', 'saurabh': 'agarwal', 'Atul': 'Patidar'}"
            ]
          },
          "metadata": {},
          "execution_count": 31
        }
      ]
    },
    {
      "cell_type": "code",
      "source": [
        "#USing update\n",
        "name8={'Kapil': 'anshul', 'saurabh': 'agarwal', 'Atul': 'Patidar'}\n",
        "name8.update({\"Kapil\":\"narayan\"})\n",
        "name8"
      ],
      "metadata": {
        "colab": {
          "base_uri": "https://localhost:8080/"
        },
        "id": "GlLIEqXp05-C",
        "outputId": "a5ed32e6-767e-429e-8849-026409fdafb9"
      },
      "execution_count": 34,
      "outputs": [
        {
          "output_type": "execute_result",
          "data": {
            "text/plain": [
              "{'Kapil': 'narayan', 'saurabh': 'agarwal', 'Atul': 'Patidar'}"
            ]
          },
          "metadata": {},
          "execution_count": 34
        }
      ]
    },
    {
      "cell_type": "code",
      "source": [
        "#Adding items using key names\n",
        "name9={'Kapil': 'anshul', 'saurabh': 'agarwal', 'Atul': 'Patidar'}\n",
        "name9[\"Sudhanshu\"]=\"Chouhan\"\n",
        "name9"
      ],
      "metadata": {
        "colab": {
          "base_uri": "https://localhost:8080/"
        },
        "id": "JHEQn8J21SYI",
        "outputId": "2bd777a2-0a74-4514-fe89-ff74853af3d3"
      },
      "execution_count": 35,
      "outputs": [
        {
          "output_type": "execute_result",
          "data": {
            "text/plain": [
              "{'Kapil': 'anshul',\n",
              " 'saurabh': 'agarwal',\n",
              " 'Atul': 'Patidar',\n",
              " 'Sudhanshu': 'Chouhan'}"
            ]
          },
          "metadata": {},
          "execution_count": 35
        }
      ]
    },
    {
      "cell_type": "code",
      "source": [
        "#Adding item using update\n",
        "name10={'Kapil': 'anshul', 'saurabh': 'agarwal', 'Atul': 'Patidar'}\n",
        "name10.update({\"Sudhanshu\":\"Chouhan\"})\n",
        "name10"
      ],
      "metadata": {
        "colab": {
          "base_uri": "https://localhost:8080/"
        },
        "id": "ubQhQFPb177m",
        "outputId": "aeb4a5bd-1eb1-41d0-c846-31f595e9b244"
      },
      "execution_count": 36,
      "outputs": [
        {
          "output_type": "execute_result",
          "data": {
            "text/plain": [
              "{'Kapil': 'anshul',\n",
              " 'saurabh': 'agarwal',\n",
              " 'Atul': 'Patidar',\n",
              " 'Sudhanshu': 'Chouhan'}"
            ]
          },
          "metadata": {},
          "execution_count": 36
        }
      ]
    },
    {
      "cell_type": "code",
      "source": [],
      "metadata": {
        "id": "In1nOUCd1e-o"
      },
      "execution_count": null,
      "outputs": []
    }
  ]
}